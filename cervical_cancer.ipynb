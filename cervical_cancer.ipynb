{
 "cells": [
  {
   "cell_type": "markdown",
   "metadata": {},
   "source": [
    "### Predicting Cervical Cancer From Biopsy Results\n",
    "**Shpaner, Leonid - March 1, 2022**\n",
    "\n",
    "A thorough protocol for cervical cancer detection hinges on cytological tests in conjunction with other methodologies; The focus is narrowed to patients that are healthy vs. unhealthy (based on biopsy results). This predictive modeling endeavor stems from the selection of 858 female patients ages 13-84 from a Venezuelan inpatient clinic. The data is pre-processed; feature selection is based on removal of highly correlated and near zero variance predictors. The data is subsequently partitioned using an 80:20 train-test split ratio to evaluate the model performance of data outside the training set. The class imbalance scenario where the majority of cases are healthy is rebalanced with oversampling. Three models are proposed to aide in establishing the likelihood of being diagnosed with cervical cancer. Results vary based on key performance indicators of the receiver operating characteristics’ areas under their curves. Furthermore, each model is holistically evaluated based on its predictive ability. \n",
    "\n",
    "*Keywords:* cervical cancer, machine learning, ensemble methods, predictive modeling"
   ]
  },
  {
   "cell_type": "markdown",
   "metadata": {},
   "source": [
    "### Loading, Pre-Processing, and Exploring Data"
   ]
  },
  {
   "cell_type": "code",
   "execution_count": 1,
   "metadata": {},
   "outputs": [],
   "source": [
    "import pandas as pd\n",
    "import numpy as np\n",
    "import matplotlib.pyplot as plt\n",
    "import seaborn as sns\n",
    "from prettytable import PrettyTable \n",
    "\n",
    "from imblearn.over_sampling import SMOTE, ADASYN\n",
    "from sklearn.decomposition import PCA\n",
    "import statsmodels.api as sm\n",
    "from sklearn.model_selection import train_test_split, \\\n",
    "RepeatedStratifiedKFold, RandomizedSearchCV\n",
    "from sklearn import metrics\n",
    "from sklearn.metrics import roc_curve, auc, mean_squared_error,\\\n",
    "precision_score, recall_score, f1_score, accuracy_score,\\\n",
    "confusion_matrix, plot_confusion_matrix, classification_report\n",
    "from sklearn.linear_model import LogisticRegression\n",
    "from sklearn.ensemble import RandomForestClassifier\n",
    "from sklearn.svm import SVC\n",
    "\n",
    "from scipy.stats import loguniform, uniform, truncnorm, randint\n",
    "\n",
    "import warnings\n",
    "warnings.filterwarnings('ignore')"
   ]
  },
  {
   "cell_type": "code",
   "execution_count": 2,
   "metadata": {},
   "outputs": [],
   "source": [
    "url = 'https://raw.githubusercontent.com/lshpaner/\\\n",
    "MSADS_503_Predictive_Modeling_Predicting_Cervical_Cancer/main/\\\n",
    "code_files/risk_factors_cervical_cancer.csv'"
   ]
  },
  {
   "cell_type": "markdown",
   "metadata": {},
   "source": [
    "Now, we proceed to read in the flat .csv file, and examine the first 5 rows of data."
   ]
  },
  {
   "cell_type": "code",
   "execution_count": 3,
   "metadata": {},
   "outputs": [
    {
     "data": {
      "text/html": [
       "<div>\n",
       "<style scoped>\n",
       "    .dataframe tbody tr th:only-of-type {\n",
       "        vertical-align: middle;\n",
       "    }\n",
       "\n",
       "    .dataframe tbody tr th {\n",
       "        vertical-align: top;\n",
       "    }\n",
       "\n",
       "    .dataframe thead th {\n",
       "        text-align: right;\n",
       "    }\n",
       "</style>\n",
       "<table border=\"1\" class=\"dataframe\">\n",
       "  <thead>\n",
       "    <tr style=\"text-align: right;\">\n",
       "      <th></th>\n",
       "      <th>Age</th>\n",
       "      <th>Number of sexual partners</th>\n",
       "      <th>First sexual intercourse</th>\n",
       "      <th>Num of pregnancies</th>\n",
       "      <th>Smokes</th>\n",
       "      <th>Smokes (years)</th>\n",
       "      <th>Smokes (packs/year)</th>\n",
       "      <th>Hormonal Contraceptives</th>\n",
       "      <th>Hormonal Contraceptives (years)</th>\n",
       "      <th>IUD</th>\n",
       "      <th>...</th>\n",
       "      <th>STDs: Time since first diagnosis</th>\n",
       "      <th>STDs: Time since last diagnosis</th>\n",
       "      <th>Dx:Cancer</th>\n",
       "      <th>Dx:CIN</th>\n",
       "      <th>Dx:HPV</th>\n",
       "      <th>Dx</th>\n",
       "      <th>Hinselmann</th>\n",
       "      <th>Schiller</th>\n",
       "      <th>Citology</th>\n",
       "      <th>Biopsy</th>\n",
       "    </tr>\n",
       "  </thead>\n",
       "  <tbody>\n",
       "    <tr>\n",
       "      <th>0</th>\n",
       "      <td>18</td>\n",
       "      <td>4.0</td>\n",
       "      <td>15.0</td>\n",
       "      <td>1.0</td>\n",
       "      <td>0.0</td>\n",
       "      <td>0.0</td>\n",
       "      <td>0.0</td>\n",
       "      <td>0.0</td>\n",
       "      <td>0.0</td>\n",
       "      <td>0.0</td>\n",
       "      <td>...</td>\n",
       "      <td>?</td>\n",
       "      <td>?</td>\n",
       "      <td>0</td>\n",
       "      <td>0</td>\n",
       "      <td>0</td>\n",
       "      <td>0</td>\n",
       "      <td>0</td>\n",
       "      <td>0</td>\n",
       "      <td>0</td>\n",
       "      <td>0</td>\n",
       "    </tr>\n",
       "    <tr>\n",
       "      <th>1</th>\n",
       "      <td>15</td>\n",
       "      <td>1.0</td>\n",
       "      <td>14.0</td>\n",
       "      <td>1.0</td>\n",
       "      <td>0.0</td>\n",
       "      <td>0.0</td>\n",
       "      <td>0.0</td>\n",
       "      <td>0.0</td>\n",
       "      <td>0.0</td>\n",
       "      <td>0.0</td>\n",
       "      <td>...</td>\n",
       "      <td>?</td>\n",
       "      <td>?</td>\n",
       "      <td>0</td>\n",
       "      <td>0</td>\n",
       "      <td>0</td>\n",
       "      <td>0</td>\n",
       "      <td>0</td>\n",
       "      <td>0</td>\n",
       "      <td>0</td>\n",
       "      <td>0</td>\n",
       "    </tr>\n",
       "    <tr>\n",
       "      <th>2</th>\n",
       "      <td>34</td>\n",
       "      <td>1.0</td>\n",
       "      <td>?</td>\n",
       "      <td>1.0</td>\n",
       "      <td>0.0</td>\n",
       "      <td>0.0</td>\n",
       "      <td>0.0</td>\n",
       "      <td>0.0</td>\n",
       "      <td>0.0</td>\n",
       "      <td>0.0</td>\n",
       "      <td>...</td>\n",
       "      <td>?</td>\n",
       "      <td>?</td>\n",
       "      <td>0</td>\n",
       "      <td>0</td>\n",
       "      <td>0</td>\n",
       "      <td>0</td>\n",
       "      <td>0</td>\n",
       "      <td>0</td>\n",
       "      <td>0</td>\n",
       "      <td>0</td>\n",
       "    </tr>\n",
       "    <tr>\n",
       "      <th>3</th>\n",
       "      <td>52</td>\n",
       "      <td>5.0</td>\n",
       "      <td>16.0</td>\n",
       "      <td>4.0</td>\n",
       "      <td>1.0</td>\n",
       "      <td>37.0</td>\n",
       "      <td>37.0</td>\n",
       "      <td>1.0</td>\n",
       "      <td>3.0</td>\n",
       "      <td>0.0</td>\n",
       "      <td>...</td>\n",
       "      <td>?</td>\n",
       "      <td>?</td>\n",
       "      <td>1</td>\n",
       "      <td>0</td>\n",
       "      <td>1</td>\n",
       "      <td>0</td>\n",
       "      <td>0</td>\n",
       "      <td>0</td>\n",
       "      <td>0</td>\n",
       "      <td>0</td>\n",
       "    </tr>\n",
       "    <tr>\n",
       "      <th>4</th>\n",
       "      <td>46</td>\n",
       "      <td>3.0</td>\n",
       "      <td>21.0</td>\n",
       "      <td>4.0</td>\n",
       "      <td>0.0</td>\n",
       "      <td>0.0</td>\n",
       "      <td>0.0</td>\n",
       "      <td>1.0</td>\n",
       "      <td>15.0</td>\n",
       "      <td>0.0</td>\n",
       "      <td>...</td>\n",
       "      <td>?</td>\n",
       "      <td>?</td>\n",
       "      <td>0</td>\n",
       "      <td>0</td>\n",
       "      <td>0</td>\n",
       "      <td>0</td>\n",
       "      <td>0</td>\n",
       "      <td>0</td>\n",
       "      <td>0</td>\n",
       "      <td>0</td>\n",
       "    </tr>\n",
       "  </tbody>\n",
       "</table>\n",
       "<p>5 rows × 36 columns</p>\n",
       "</div>"
      ],
      "text/plain": [
       "   Age Number of sexual partners First sexual intercourse Num of pregnancies  \\\n",
       "0   18                       4.0                     15.0                1.0   \n",
       "1   15                       1.0                     14.0                1.0   \n",
       "2   34                       1.0                        ?                1.0   \n",
       "3   52                       5.0                     16.0                4.0   \n",
       "4   46                       3.0                     21.0                4.0   \n",
       "\n",
       "  Smokes Smokes (years) Smokes (packs/year) Hormonal Contraceptives  \\\n",
       "0    0.0            0.0                 0.0                     0.0   \n",
       "1    0.0            0.0                 0.0                     0.0   \n",
       "2    0.0            0.0                 0.0                     0.0   \n",
       "3    1.0           37.0                37.0                     1.0   \n",
       "4    0.0            0.0                 0.0                     1.0   \n",
       "\n",
       "  Hormonal Contraceptives (years)  IUD  ... STDs: Time since first diagnosis  \\\n",
       "0                             0.0  0.0  ...                                ?   \n",
       "1                             0.0  0.0  ...                                ?   \n",
       "2                             0.0  0.0  ...                                ?   \n",
       "3                             3.0  0.0  ...                                ?   \n",
       "4                            15.0  0.0  ...                                ?   \n",
       "\n",
       "  STDs: Time since last diagnosis Dx:Cancer Dx:CIN Dx:HPV Dx Hinselmann  \\\n",
       "0                               ?         0      0      0  0          0   \n",
       "1                               ?         0      0      0  0          0   \n",
       "2                               ?         0      0      0  0          0   \n",
       "3                               ?         1      0      1  0          0   \n",
       "4                               ?         0      0      0  0          0   \n",
       "\n",
       "  Schiller Citology Biopsy  \n",
       "0        0        0      0  \n",
       "1        0        0      0  \n",
       "2        0        0      0  \n",
       "3        0        0      0  \n",
       "4        0        0      0  \n",
       "\n",
       "[5 rows x 36 columns]"
      ]
     },
     "execution_count": 3,
     "metadata": {},
     "output_type": "execute_result"
    }
   ],
   "source": [
    "df = pd.read_csv(url)\n",
    "df.head()"
   ]
  },
  {
   "cell_type": "code",
   "execution_count": 4,
   "metadata": {},
   "outputs": [],
   "source": [
    "# replace original dataframe's ? symbol with nulls\n",
    "df = df.replace('?', np.nan)"
   ]
  },
  {
   "cell_type": "markdown",
   "metadata": {},
   "source": [
    "### Features' Data Types and Their Respective Null Counts"
   ]
  },
  {
   "cell_type": "code",
   "execution_count": 5,
   "metadata": {},
   "outputs": [
    {
     "name": "stdout",
     "output_type": "stream",
     "text": [
      "Number of Rows: 858\n",
      "Number of Columns: 36 \n",
      "\n"
     ]
    },
    {
     "data": {
      "text/html": [
       "<div>\n",
       "<style scoped>\n",
       "    .dataframe tbody tr th:only-of-type {\n",
       "        vertical-align: middle;\n",
       "    }\n",
       "\n",
       "    .dataframe tbody tr th {\n",
       "        vertical-align: top;\n",
       "    }\n",
       "\n",
       "    .dataframe thead th {\n",
       "        text-align: right;\n",
       "    }\n",
       "</style>\n",
       "<table border=\"1\" class=\"dataframe\">\n",
       "  <thead>\n",
       "    <tr style=\"text-align: right;\">\n",
       "      <th></th>\n",
       "      <th>Column/Variable</th>\n",
       "      <th>Data Type</th>\n",
       "      <th># of Nulls</th>\n",
       "    </tr>\n",
       "  </thead>\n",
       "  <tbody>\n",
       "    <tr>\n",
       "      <th>0</th>\n",
       "      <td>Age</td>\n",
       "      <td>int64</td>\n",
       "      <td>0</td>\n",
       "    </tr>\n",
       "    <tr>\n",
       "      <th>1</th>\n",
       "      <td>Number of sexual partners</td>\n",
       "      <td>object</td>\n",
       "      <td>26</td>\n",
       "    </tr>\n",
       "    <tr>\n",
       "      <th>2</th>\n",
       "      <td>First sexual intercourse</td>\n",
       "      <td>object</td>\n",
       "      <td>7</td>\n",
       "    </tr>\n",
       "    <tr>\n",
       "      <th>3</th>\n",
       "      <td>Num of pregnancies</td>\n",
       "      <td>object</td>\n",
       "      <td>56</td>\n",
       "    </tr>\n",
       "    <tr>\n",
       "      <th>4</th>\n",
       "      <td>Smokes</td>\n",
       "      <td>object</td>\n",
       "      <td>13</td>\n",
       "    </tr>\n",
       "    <tr>\n",
       "      <th>5</th>\n",
       "      <td>Smokes (years)</td>\n",
       "      <td>object</td>\n",
       "      <td>13</td>\n",
       "    </tr>\n",
       "    <tr>\n",
       "      <th>6</th>\n",
       "      <td>Smokes (packs/year)</td>\n",
       "      <td>object</td>\n",
       "      <td>13</td>\n",
       "    </tr>\n",
       "    <tr>\n",
       "      <th>7</th>\n",
       "      <td>Hormonal Contraceptives</td>\n",
       "      <td>object</td>\n",
       "      <td>108</td>\n",
       "    </tr>\n",
       "    <tr>\n",
       "      <th>8</th>\n",
       "      <td>Hormonal Contraceptives (years)</td>\n",
       "      <td>object</td>\n",
       "      <td>108</td>\n",
       "    </tr>\n",
       "    <tr>\n",
       "      <th>9</th>\n",
       "      <td>IUD</td>\n",
       "      <td>object</td>\n",
       "      <td>117</td>\n",
       "    </tr>\n",
       "    <tr>\n",
       "      <th>10</th>\n",
       "      <td>IUD (years)</td>\n",
       "      <td>object</td>\n",
       "      <td>117</td>\n",
       "    </tr>\n",
       "    <tr>\n",
       "      <th>11</th>\n",
       "      <td>STDs</td>\n",
       "      <td>object</td>\n",
       "      <td>105</td>\n",
       "    </tr>\n",
       "    <tr>\n",
       "      <th>12</th>\n",
       "      <td>STDs (number)</td>\n",
       "      <td>object</td>\n",
       "      <td>105</td>\n",
       "    </tr>\n",
       "    <tr>\n",
       "      <th>13</th>\n",
       "      <td>STDs:condylomatosis</td>\n",
       "      <td>object</td>\n",
       "      <td>105</td>\n",
       "    </tr>\n",
       "    <tr>\n",
       "      <th>14</th>\n",
       "      <td>STDs:cervical condylomatosis</td>\n",
       "      <td>object</td>\n",
       "      <td>105</td>\n",
       "    </tr>\n",
       "    <tr>\n",
       "      <th>15</th>\n",
       "      <td>STDs:vaginal condylomatosis</td>\n",
       "      <td>object</td>\n",
       "      <td>105</td>\n",
       "    </tr>\n",
       "    <tr>\n",
       "      <th>16</th>\n",
       "      <td>STDs:vulvo-perineal condylomatosis</td>\n",
       "      <td>object</td>\n",
       "      <td>105</td>\n",
       "    </tr>\n",
       "    <tr>\n",
       "      <th>17</th>\n",
       "      <td>STDs:syphilis</td>\n",
       "      <td>object</td>\n",
       "      <td>105</td>\n",
       "    </tr>\n",
       "    <tr>\n",
       "      <th>18</th>\n",
       "      <td>STDs:pelvic inflammatory disease</td>\n",
       "      <td>object</td>\n",
       "      <td>105</td>\n",
       "    </tr>\n",
       "    <tr>\n",
       "      <th>19</th>\n",
       "      <td>STDs:genital herpes</td>\n",
       "      <td>object</td>\n",
       "      <td>105</td>\n",
       "    </tr>\n",
       "    <tr>\n",
       "      <th>20</th>\n",
       "      <td>STDs:molluscum contagiosum</td>\n",
       "      <td>object</td>\n",
       "      <td>105</td>\n",
       "    </tr>\n",
       "    <tr>\n",
       "      <th>21</th>\n",
       "      <td>STDs:AIDS</td>\n",
       "      <td>object</td>\n",
       "      <td>105</td>\n",
       "    </tr>\n",
       "    <tr>\n",
       "      <th>22</th>\n",
       "      <td>STDs:HIV</td>\n",
       "      <td>object</td>\n",
       "      <td>105</td>\n",
       "    </tr>\n",
       "    <tr>\n",
       "      <th>23</th>\n",
       "      <td>STDs:Hepatitis B</td>\n",
       "      <td>object</td>\n",
       "      <td>105</td>\n",
       "    </tr>\n",
       "    <tr>\n",
       "      <th>24</th>\n",
       "      <td>STDs:HPV</td>\n",
       "      <td>object</td>\n",
       "      <td>105</td>\n",
       "    </tr>\n",
       "    <tr>\n",
       "      <th>25</th>\n",
       "      <td>STDs: Number of diagnosis</td>\n",
       "      <td>int64</td>\n",
       "      <td>0</td>\n",
       "    </tr>\n",
       "    <tr>\n",
       "      <th>26</th>\n",
       "      <td>STDs: Time since first diagnosis</td>\n",
       "      <td>object</td>\n",
       "      <td>787</td>\n",
       "    </tr>\n",
       "    <tr>\n",
       "      <th>27</th>\n",
       "      <td>STDs: Time since last diagnosis</td>\n",
       "      <td>object</td>\n",
       "      <td>787</td>\n",
       "    </tr>\n",
       "    <tr>\n",
       "      <th>28</th>\n",
       "      <td>Dx:Cancer</td>\n",
       "      <td>int64</td>\n",
       "      <td>0</td>\n",
       "    </tr>\n",
       "    <tr>\n",
       "      <th>29</th>\n",
       "      <td>Dx:CIN</td>\n",
       "      <td>int64</td>\n",
       "      <td>0</td>\n",
       "    </tr>\n",
       "    <tr>\n",
       "      <th>30</th>\n",
       "      <td>Dx:HPV</td>\n",
       "      <td>int64</td>\n",
       "      <td>0</td>\n",
       "    </tr>\n",
       "    <tr>\n",
       "      <th>31</th>\n",
       "      <td>Dx</td>\n",
       "      <td>int64</td>\n",
       "      <td>0</td>\n",
       "    </tr>\n",
       "    <tr>\n",
       "      <th>32</th>\n",
       "      <td>Hinselmann</td>\n",
       "      <td>int64</td>\n",
       "      <td>0</td>\n",
       "    </tr>\n",
       "    <tr>\n",
       "      <th>33</th>\n",
       "      <td>Schiller</td>\n",
       "      <td>int64</td>\n",
       "      <td>0</td>\n",
       "    </tr>\n",
       "    <tr>\n",
       "      <th>34</th>\n",
       "      <td>Citology</td>\n",
       "      <td>int64</td>\n",
       "      <td>0</td>\n",
       "    </tr>\n",
       "    <tr>\n",
       "      <th>35</th>\n",
       "      <td>Biopsy</td>\n",
       "      <td>int64</td>\n",
       "      <td>0</td>\n",
       "    </tr>\n",
       "  </tbody>\n",
       "</table>\n",
       "</div>"
      ],
      "text/plain": [
       "                       Column/Variable Data Type  # of Nulls\n",
       "0                                  Age     int64           0\n",
       "1            Number of sexual partners    object          26\n",
       "2             First sexual intercourse    object           7\n",
       "3                   Num of pregnancies    object          56\n",
       "4                               Smokes    object          13\n",
       "5                       Smokes (years)    object          13\n",
       "6                  Smokes (packs/year)    object          13\n",
       "7              Hormonal Contraceptives    object         108\n",
       "8      Hormonal Contraceptives (years)    object         108\n",
       "9                                  IUD    object         117\n",
       "10                         IUD (years)    object         117\n",
       "11                                STDs    object         105\n",
       "12                       STDs (number)    object         105\n",
       "13                 STDs:condylomatosis    object         105\n",
       "14        STDs:cervical condylomatosis    object         105\n",
       "15         STDs:vaginal condylomatosis    object         105\n",
       "16  STDs:vulvo-perineal condylomatosis    object         105\n",
       "17                       STDs:syphilis    object         105\n",
       "18    STDs:pelvic inflammatory disease    object         105\n",
       "19                 STDs:genital herpes    object         105\n",
       "20          STDs:molluscum contagiosum    object         105\n",
       "21                           STDs:AIDS    object         105\n",
       "22                            STDs:HIV    object         105\n",
       "23                    STDs:Hepatitis B    object         105\n",
       "24                            STDs:HPV    object         105\n",
       "25           STDs: Number of diagnosis     int64           0\n",
       "26    STDs: Time since first diagnosis    object         787\n",
       "27     STDs: Time since last diagnosis    object         787\n",
       "28                           Dx:Cancer     int64           0\n",
       "29                              Dx:CIN     int64           0\n",
       "30                              Dx:HPV     int64           0\n",
       "31                                  Dx     int64           0\n",
       "32                          Hinselmann     int64           0\n",
       "33                            Schiller     int64           0\n",
       "34                            Citology     int64           0\n",
       "35                              Biopsy     int64           0"
      ]
     },
     "execution_count": 5,
     "metadata": {},
     "output_type": "execute_result"
    }
   ],
   "source": [
    "print('Number of Rows:', df.shape[0])\n",
    "print('Number of Columns:', df.shape[1], '\\n')\n",
    "data_types = df.dtypes\n",
    "\n",
    "data_types = pd.DataFrame(data_types)\n",
    "data_types = data_types.assign(Null_Values = \n",
    "                               df.isnull().sum())\n",
    "total_null = data_types['Null_Values'].sum()\n",
    "data_types.reset_index(inplace = True)\n",
    "\n",
    "data_types = data_types.rename(columns={0:'Data Type',\n",
    "                          'index': 'Column/Variable',\n",
    "                          'Null_Values': \"# of Nulls\"})\n",
    "data_types"
   ]
  },
  {
   "cell_type": "code",
   "execution_count": 6,
   "metadata": {},
   "outputs": [
    {
     "name": "stdout",
     "output_type": "stream",
     "text": [
      "Total # of Missing Values: 3622\n"
     ]
    }
   ],
   "source": [
    "print ('Total # of Missing Values:', total_null)"
   ]
  },
  {
   "cell_type": "markdown",
   "metadata": {},
   "source": [
    "The following columns have #NA values"
   ]
  },
  {
   "cell_type": "code",
   "execution_count": 7,
   "metadata": {},
   "outputs": [
    {
     "data": {
      "text/plain": [
       "['Number of sexual partners',\n",
       " 'First sexual intercourse',\n",
       " 'Num of pregnancies',\n",
       " 'Smokes',\n",
       " 'Smokes (years)',\n",
       " 'Smokes (packs/year)',\n",
       " 'Hormonal Contraceptives',\n",
       " 'Hormonal Contraceptives (years)',\n",
       " 'IUD',\n",
       " 'IUD (years)',\n",
       " 'STDs',\n",
       " 'STDs (number)',\n",
       " 'STDs:condylomatosis',\n",
       " 'STDs:cervical condylomatosis',\n",
       " 'STDs:vaginal condylomatosis',\n",
       " 'STDs:vulvo-perineal condylomatosis',\n",
       " 'STDs:syphilis',\n",
       " 'STDs:pelvic inflammatory disease',\n",
       " 'STDs:genital herpes',\n",
       " 'STDs:molluscum contagiosum',\n",
       " 'STDs:AIDS',\n",
       " 'STDs:HIV',\n",
       " 'STDs:Hepatitis B',\n",
       " 'STDs:HPV',\n",
       " 'STDs: Time since first diagnosis',\n",
       " 'STDs: Time since last diagnosis']"
      ]
     },
     "execution_count": 7,
     "metadata": {},
     "output_type": "execute_result"
    }
   ],
   "source": [
    "df.columns[df.isnull().any()].tolist()"
   ]
  },
  {
   "cell_type": "code",
   "execution_count": 8,
   "metadata": {},
   "outputs": [],
   "source": [
    "# drop columns with tests other than Biopsy\n",
    "cervdat = df.drop(columns=['Citology', 'Schiller', 'Hinselmann'])"
   ]
  },
  {
   "cell_type": "code",
   "execution_count": 9,
   "metadata": {},
   "outputs": [
    {
     "data": {
      "text/plain": [
       "Age                                     int64\n",
       "Number of sexual partners             float64\n",
       "First sexual intercourse              float64\n",
       "Num of pregnancies                    float64\n",
       "Smokes                                float64\n",
       "Smokes (years)                        float64\n",
       "Smokes (packs/year)                   float64\n",
       "Hormonal Contraceptives               float64\n",
       "Hormonal Contraceptives (years)       float64\n",
       "IUD                                   float64\n",
       "IUD (years)                           float64\n",
       "STDs                                  float64\n",
       "STDs (number)                         float64\n",
       "STDs:condylomatosis                   float64\n",
       "STDs:cervical condylomatosis          float64\n",
       "STDs:vaginal condylomatosis           float64\n",
       "STDs:vulvo-perineal condylomatosis    float64\n",
       "STDs:syphilis                         float64\n",
       "STDs:pelvic inflammatory disease      float64\n",
       "STDs:genital herpes                   float64\n",
       "STDs:molluscum contagiosum            float64\n",
       "STDs:AIDS                             float64\n",
       "STDs:HIV                              float64\n",
       "STDs:Hepatitis B                      float64\n",
       "STDs:HPV                              float64\n",
       "STDs: Number of diagnosis               int64\n",
       "STDs: Time since first diagnosis      float64\n",
       "STDs: Time since last diagnosis       float64\n",
       "Dx:Cancer                               int64\n",
       "Dx:CIN                                  int64\n",
       "Dx:HPV                                  int64\n",
       "Dx                                      int64\n",
       "Biopsy                                  int64\n",
       "dtype: object"
      ]
     },
     "execution_count": 9,
     "metadata": {},
     "output_type": "execute_result"
    }
   ],
   "source": [
    "# nunmericize features\n",
    "cervdat = cervdat.apply(pd.to_numeric)\n",
    "cervdat.dtypes"
   ]
  },
  {
   "cell_type": "code",
   "execution_count": 10,
   "metadata": {},
   "outputs": [
    {
     "name": "stdout",
     "output_type": "stream",
     "text": [
      "Number of Rows: 858\n",
      "Number of Columns: 33 \n",
      "\n"
     ]
    }
   ],
   "source": [
    "# inspect number of rows, columns\n",
    "print('Number of Rows:', cervdat.shape[0])\n",
    "print('Number of Columns:', cervdat.shape[1], '\\n')"
   ]
  },
  {
   "cell_type": "markdown",
   "metadata": {},
   "source": [
    "### Imputing Missing Values by Median"
   ]
  },
  {
   "cell_type": "code",
   "execution_count": 11,
   "metadata": {},
   "outputs": [],
   "source": [
    "cervdat = cervdat.fillna(cervdat.median())"
   ]
  },
  {
   "cell_type": "code",
   "execution_count": 12,
   "metadata": {},
   "outputs": [
    {
     "data": {
      "text/html": [
       "<div>\n",
       "<style scoped>\n",
       "    .dataframe tbody tr th:only-of-type {\n",
       "        vertical-align: middle;\n",
       "    }\n",
       "\n",
       "    .dataframe tbody tr th {\n",
       "        vertical-align: top;\n",
       "    }\n",
       "\n",
       "    .dataframe thead th {\n",
       "        text-align: right;\n",
       "    }\n",
       "</style>\n",
       "<table border=\"1\" class=\"dataframe\">\n",
       "  <thead>\n",
       "    <tr style=\"text-align: right;\">\n",
       "      <th></th>\n",
       "      <th>Column/Variable</th>\n",
       "      <th>Variance</th>\n",
       "    </tr>\n",
       "  </thead>\n",
       "  <tbody>\n",
       "    <tr>\n",
       "      <th>0</th>\n",
       "      <td>Age</td>\n",
       "      <td>72.215121</td>\n",
       "    </tr>\n",
       "    <tr>\n",
       "      <th>1</th>\n",
       "      <td>Number of sexual partners</td>\n",
       "      <td>2.705232</td>\n",
       "    </tr>\n",
       "    <tr>\n",
       "      <th>2</th>\n",
       "      <td>First sexual intercourse</td>\n",
       "      <td>7.794611</td>\n",
       "    </tr>\n",
       "    <tr>\n",
       "      <th>3</th>\n",
       "      <td>Num of pregnancies</td>\n",
       "      <td>1.962749</td>\n",
       "    </tr>\n",
       "    <tr>\n",
       "      <th>4</th>\n",
       "      <td>Smokes</td>\n",
       "      <td>0.122949</td>\n",
       "    </tr>\n",
       "    <tr>\n",
       "      <th>5</th>\n",
       "      <td>Smokes (years)</td>\n",
       "      <td>16.488655</td>\n",
       "    </tr>\n",
       "    <tr>\n",
       "      <th>6</th>\n",
       "      <td>Smokes (packs/year)</td>\n",
       "      <td>4.885653</td>\n",
       "    </tr>\n",
       "    <tr>\n",
       "      <th>7</th>\n",
       "      <td>Hormonal Contraceptives</td>\n",
       "      <td>0.215476</td>\n",
       "    </tr>\n",
       "    <tr>\n",
       "      <th>8</th>\n",
       "      <td>Hormonal Contraceptives (years)</td>\n",
       "      <td>12.723776</td>\n",
       "    </tr>\n",
       "    <tr>\n",
       "      <th>9</th>\n",
       "      <td>IUD</td>\n",
       "      <td>0.087481</td>\n",
       "    </tr>\n",
       "    <tr>\n",
       "      <th>10</th>\n",
       "      <td>IUD (years)</td>\n",
       "      <td>3.291387</td>\n",
       "    </tr>\n",
       "    <tr>\n",
       "      <th>11</th>\n",
       "      <td>STDs</td>\n",
       "      <td>0.083694</td>\n",
       "    </tr>\n",
       "    <tr>\n",
       "      <th>12</th>\n",
       "      <td>STDs (number)</td>\n",
       "      <td>0.280494</td>\n",
       "    </tr>\n",
       "    <tr>\n",
       "      <th>13</th>\n",
       "      <td>STDs:condylomatosis</td>\n",
       "      <td>0.048709</td>\n",
       "    </tr>\n",
       "    <tr>\n",
       "      <th>14</th>\n",
       "      <td>STDs:cervical condylomatosis</td>\n",
       "      <td>0.000000</td>\n",
       "    </tr>\n",
       "    <tr>\n",
       "      <th>15</th>\n",
       "      <td>STDs:vaginal condylomatosis</td>\n",
       "      <td>0.004646</td>\n",
       "    </tr>\n",
       "    <tr>\n",
       "      <th>16</th>\n",
       "      <td>STDs:vulvo-perineal condylomatosis</td>\n",
       "      <td>0.047660</td>\n",
       "    </tr>\n",
       "    <tr>\n",
       "      <th>17</th>\n",
       "      <td>STDs:syphilis</td>\n",
       "      <td>0.020563</td>\n",
       "    </tr>\n",
       "    <tr>\n",
       "      <th>18</th>\n",
       "      <td>STDs:pelvic inflammatory disease</td>\n",
       "      <td>0.001166</td>\n",
       "    </tr>\n",
       "    <tr>\n",
       "      <th>19</th>\n",
       "      <td>STDs:genital herpes</td>\n",
       "      <td>0.001166</td>\n",
       "    </tr>\n",
       "    <tr>\n",
       "      <th>20</th>\n",
       "      <td>STDs:molluscum contagiosum</td>\n",
       "      <td>0.001166</td>\n",
       "    </tr>\n",
       "    <tr>\n",
       "      <th>21</th>\n",
       "      <td>STDs:AIDS</td>\n",
       "      <td>0.000000</td>\n",
       "    </tr>\n",
       "    <tr>\n",
       "      <th>22</th>\n",
       "      <td>STDs:HIV</td>\n",
       "      <td>0.020563</td>\n",
       "    </tr>\n",
       "    <tr>\n",
       "      <th>23</th>\n",
       "      <td>STDs:Hepatitis B</td>\n",
       "      <td>0.001166</td>\n",
       "    </tr>\n",
       "    <tr>\n",
       "      <th>24</th>\n",
       "      <td>STDs:HPV</td>\n",
       "      <td>0.002328</td>\n",
       "    </tr>\n",
       "    <tr>\n",
       "      <th>25</th>\n",
       "      <td>STDs: Number of diagnosis</td>\n",
       "      <td>0.091533</td>\n",
       "    </tr>\n",
       "    <tr>\n",
       "      <th>26</th>\n",
       "      <td>STDs: Time since first diagnosis</td>\n",
       "      <td>3.186782</td>\n",
       "    </tr>\n",
       "    <tr>\n",
       "      <th>27</th>\n",
       "      <td>STDs: Time since last diagnosis</td>\n",
       "      <td>3.308495</td>\n",
       "    </tr>\n",
       "    <tr>\n",
       "      <th>28</th>\n",
       "      <td>Dx:Cancer</td>\n",
       "      <td>0.020563</td>\n",
       "    </tr>\n",
       "    <tr>\n",
       "      <th>29</th>\n",
       "      <td>Dx:CIN</td>\n",
       "      <td>0.010392</td>\n",
       "    </tr>\n",
       "    <tr>\n",
       "      <th>30</th>\n",
       "      <td>Dx:HPV</td>\n",
       "      <td>0.020563</td>\n",
       "    </tr>\n",
       "    <tr>\n",
       "      <th>31</th>\n",
       "      <td>Dx</td>\n",
       "      <td>0.027221</td>\n",
       "    </tr>\n",
       "    <tr>\n",
       "      <th>32</th>\n",
       "      <td>Biopsy</td>\n",
       "      <td>0.060063</td>\n",
       "    </tr>\n",
       "  </tbody>\n",
       "</table>\n",
       "</div>"
      ],
      "text/plain": [
       "                       Column/Variable   Variance\n",
       "0                                  Age  72.215121\n",
       "1            Number of sexual partners   2.705232\n",
       "2             First sexual intercourse   7.794611\n",
       "3                   Num of pregnancies   1.962749\n",
       "4                               Smokes   0.122949\n",
       "5                       Smokes (years)  16.488655\n",
       "6                  Smokes (packs/year)   4.885653\n",
       "7              Hormonal Contraceptives   0.215476\n",
       "8      Hormonal Contraceptives (years)  12.723776\n",
       "9                                  IUD   0.087481\n",
       "10                         IUD (years)   3.291387\n",
       "11                                STDs   0.083694\n",
       "12                       STDs (number)   0.280494\n",
       "13                 STDs:condylomatosis   0.048709\n",
       "14        STDs:cervical condylomatosis   0.000000\n",
       "15         STDs:vaginal condylomatosis   0.004646\n",
       "16  STDs:vulvo-perineal condylomatosis   0.047660\n",
       "17                       STDs:syphilis   0.020563\n",
       "18    STDs:pelvic inflammatory disease   0.001166\n",
       "19                 STDs:genital herpes   0.001166\n",
       "20          STDs:molluscum contagiosum   0.001166\n",
       "21                           STDs:AIDS   0.000000\n",
       "22                            STDs:HIV   0.020563\n",
       "23                    STDs:Hepatitis B   0.001166\n",
       "24                            STDs:HPV   0.002328\n",
       "25           STDs: Number of diagnosis   0.091533\n",
       "26    STDs: Time since first diagnosis   3.186782\n",
       "27     STDs: Time since last diagnosis   3.308495\n",
       "28                           Dx:Cancer   0.020563\n",
       "29                              Dx:CIN   0.010392\n",
       "30                              Dx:HPV   0.020563\n",
       "31                                  Dx   0.027221\n",
       "32                              Biopsy   0.060063"
      ]
     },
     "execution_count": 12,
     "metadata": {},
     "output_type": "execute_result"
    }
   ],
   "source": [
    "var = pd.DataFrame(cervdat.var())\n",
    "var.reset_index(inplace = True)\n",
    "var = var.rename(columns={0:'Variance',\n",
    "                          'index': 'Column/Variable'})\n",
    "var"
   ]
  },
  {
   "cell_type": "code",
   "execution_count": 13,
   "metadata": {},
   "outputs": [
    {
     "data": {
      "text/plain": [
       "(858, 16)"
      ]
     },
     "execution_count": 13,
     "metadata": {},
     "output_type": "execute_result"
    }
   ],
   "source": [
    "# drop columns with near zero variance and get shape\n",
    "cervdat = cervdat.drop(columns=['Smokes (years)', 'Smokes (packs/year)', \n",
    "                      'IUD (years)', 'STDs:cervical condylomatosis',\n",
    "                      'STDs:vaginal condylomatosis',\n",
    "                      'STDs:syphilis', 'STDs:pelvic inflammatory disease',\n",
    "                      'STDs:genital herpes', 'STDs:molluscum contagiosum',\n",
    "                      'STDs:AIDS', 'STDs:HIV', 'STDs:Hepatitis B', 'STDs:HPV',\n",
    "                      'STDs: Time since first diagnosis', 'Dx:Cancer', 'Dx:HPV',\n",
    "                      'Dx'])\n",
    "cervdat.shape"
   ]
  },
  {
   "cell_type": "code",
   "execution_count": 14,
   "metadata": {},
   "outputs": [],
   "source": [
    "# encode target to categorical variable\n",
    "\n",
    "cervdat['Biopsy_Res'] = np.where(cervdat['Biopsy'] > 0, 'Cancer', 'Healthy')"
   ]
  },
  {
   "cell_type": "code",
   "execution_count": 15,
   "metadata": {},
   "outputs": [],
   "source": [
    "# create dictionary for age ranges\n",
    "\n",
    "cervdat['Age_Range'] = cervdat['Age'].map({13:'13-17', 14:'13-17', \n",
    "15: '13-17', 16:'13-17', 17: '13-17', 18: '18-21', 19: '18-21', 20: '18-21',\n",
    "21: '18-21', 22: '22-30', 23: '22-30', 24: '22-30', 25: '22-30', 26: '22-30',\n",
    "27: '22-30', 28: '22-30', 29: '22-30', 30: '22-30', 31: '31-40', 32: '31-40',\n",
    "33: '31-40', 34: '31-40', 35: '31-40', 36: '31-40', 37: '31-40', 38: '31-40',\n",
    "39: '31-40', 40: '31-40', 41: '41-50', 42: '41-50', 43: '41-50', 44: '41-50',\n",
    "45: '41-50', 46: '41-50', 47: '41-50', 48: '41-50', 49: '41-50', 50: '41-50',\n",
    "51: '51-60', 52: '51-60', 53: '51-60', 53: '51-60', 54: '51-60', 55: '51-60',\n",
    "56: '51-60', 57: '51-60', 58: '51-60', 58: '51-60', 59: '51-60', 60: '51-60',\n",
    "61: '61-70', 62: '61-70', 63: '61-70', 64: '61-70', 65: '61-70', 66: '61-70',\n",
    "67: '61-70', 68: '61-70', 69: '61-70', 70: '61-70', 71: '71-80', 72: '71-80',\n",
    "73: '71-80', 74: '71-80', 75: '71-80', 76: '71-80', 77: '71-80', 78: '71-80',\n",
    "79: '71-80', 80: '71-80', 81: '81-90', 82: '81-90', 83: '81-90', 84: '81-90',\n",
    "85: '81-90', 86: '81-90', 87: '81-90', 87: '81-90', 88: '81-90', 89: '81-90',\n",
    "90: '81-90'})\n"
   ]
  },
  {
   "cell_type": "markdown",
   "metadata": {},
   "source": [
    "## Exploratory Data Analysis (EDA)\n",
    " \n",
    " "
   ]
  },
  {
   "cell_type": "markdown",
   "metadata": {},
   "source": [
    "### Distribution: Histograms"
   ]
  },
  {
   "cell_type": "code",
   "execution_count": 16,
   "metadata": {},
   "outputs": [
    {
     "data": {
      "image/png": "[encoded data removed]",
      "text/plain": [
       "<Figure size 1152x1152 with 16 Axes>"
      ]
     },
     "metadata": {
      "needs_background": "light"
     },
     "output_type": "display_data"
    }
   ],
   "source": [
    "# checking for degenerate distributions\n",
    "\n",
    "cervdat.hist(grid=False, \n",
    "             figsize=(16,16))   \n",
    "                                 \n",
    "plt.show()"
   ]
  },
  {
   "cell_type": "markdown",
   "metadata": {},
   "source": [
    "### Selected Histogram - Age of Female"
   ]
  },
  {
   "cell_type": "code",
   "execution_count": 17,
   "metadata": {},
   "outputs": [
    {
     "data": {
      "image/png": "[encoded data removed]",
      "text/plain": [
       "<Figure size 432x288 with 1 Axes>"
      ]
     },
     "metadata": {
      "needs_background": "light"
     },
     "output_type": "display_data"
    }
   ],
   "source": [
    "# age bar graph\n",
    "plt.hist(cervdat['Age'], bins=10, color='gray', alpha=0.9, rwidth=.97)\n",
    "plt.title('Age Distribution of Female Patients (Histogram)')\n",
    "plt.xlabel('Age of Female')\n",
    "plt.ylabel('Count')\n",
    "plt.show()"
   ]
  },
  {
   "cell_type": "markdown",
   "metadata": {},
   "source": [
    "### Five Number Summary"
   ]
  },
  {
   "cell_type": "code",
   "execution_count": 18,
   "metadata": {},
   "outputs": [
    {
     "data": {
      "text/html": [
       "<div>\n",
       "<style scoped>\n",
       "    .dataframe tbody tr th:only-of-type {\n",
       "        vertical-align: middle;\n",
       "    }\n",
       "\n",
       "    .dataframe tbody tr th {\n",
       "        vertical-align: top;\n",
       "    }\n",
       "\n",
       "    .dataframe thead th {\n",
       "        text-align: right;\n",
       "    }\n",
       "</style>\n",
       "<table border=\"1\" class=\"dataframe\">\n",
       "  <thead>\n",
       "    <tr style=\"text-align: right;\">\n",
       "      <th></th>\n",
       "      <th>count</th>\n",
       "      <th>mean</th>\n",
       "      <th>std</th>\n",
       "      <th>min</th>\n",
       "      <th>25%</th>\n",
       "      <th>50%</th>\n",
       "      <th>75%</th>\n",
       "      <th>max</th>\n",
       "    </tr>\n",
       "  </thead>\n",
       "  <tbody>\n",
       "    <tr>\n",
       "      <th>Age</th>\n",
       "      <td>858.0</td>\n",
       "      <td>26.820513</td>\n",
       "      <td>8.497948</td>\n",
       "      <td>13.0</td>\n",
       "      <td>20.0</td>\n",
       "      <td>25.0</td>\n",
       "      <td>32.0</td>\n",
       "      <td>84.0</td>\n",
       "    </tr>\n",
       "  </tbody>\n",
       "</table>\n",
       "</div>"
      ],
      "text/plain": [
       "     count       mean       std   min   25%   50%   75%   max\n",
       "Age  858.0  26.820513  8.497948  13.0  20.0  25.0  32.0  84.0"
      ]
     },
     "execution_count": 18,
     "metadata": {},
     "output_type": "execute_result"
    }
   ],
   "source": [
    "# five number summary\n",
    "age_summary = pd.DataFrame(cervdat['Age'].describe()).T\n",
    "age_summary"
   ]
  },
  {
   "cell_type": "code",
   "execution_count": 19,
   "metadata": {},
   "outputs": [
    {
     "name": "stdout",
     "output_type": "stream",
     "text": [
      "\u001b[1mAge Range Summary\u001b[1m\n"
     ]
    },
    {
     "data": {
      "text/html": [
       "<div>\n",
       "<style scoped>\n",
       "    .dataframe tbody tr th:only-of-type {\n",
       "        vertical-align: middle;\n",
       "    }\n",
       "\n",
       "    .dataframe tbody tr th {\n",
       "        vertical-align: top;\n",
       "    }\n",
       "\n",
       "    .dataframe thead th {\n",
       "        text-align: right;\n",
       "    }\n",
       "</style>\n",
       "<table border=\"1\" class=\"dataframe\">\n",
       "  <thead>\n",
       "    <tr style=\"text-align: right;\">\n",
       "      <th></th>\n",
       "      <th>Mean</th>\n",
       "      <th>Median</th>\n",
       "      <th>Standard Deviation</th>\n",
       "      <th>Minimum</th>\n",
       "      <th>Maximum</th>\n",
       "    </tr>\n",
       "    <tr>\n",
       "      <th>Age_Range</th>\n",
       "      <th></th>\n",
       "      <th></th>\n",
       "      <th></th>\n",
       "      <th></th>\n",
       "      <th></th>\n",
       "    </tr>\n",
       "  </thead>\n",
       "  <tbody>\n",
       "    <tr>\n",
       "      <th>13-17</th>\n",
       "      <td>16.01</td>\n",
       "      <td>16.00</td>\n",
       "      <td>1.01</td>\n",
       "      <td>13.00</td>\n",
       "      <td>17.00</td>\n",
       "    </tr>\n",
       "    <tr>\n",
       "      <th>18-21</th>\n",
       "      <td>19.47</td>\n",
       "      <td>19.00</td>\n",
       "      <td>1.14</td>\n",
       "      <td>18.00</td>\n",
       "      <td>21.00</td>\n",
       "    </tr>\n",
       "    <tr>\n",
       "      <th>22-30</th>\n",
       "      <td>25.84</td>\n",
       "      <td>26.00</td>\n",
       "      <td>2.55</td>\n",
       "      <td>22.00</td>\n",
       "      <td>30.00</td>\n",
       "    </tr>\n",
       "    <tr>\n",
       "      <th>31-40</th>\n",
       "      <td>34.69</td>\n",
       "      <td>35.00</td>\n",
       "      <td>2.60</td>\n",
       "      <td>31.00</td>\n",
       "      <td>40.00</td>\n",
       "    </tr>\n",
       "    <tr>\n",
       "      <th>41-50</th>\n",
       "      <td>43.62</td>\n",
       "      <td>43.00</td>\n",
       "      <td>2.54</td>\n",
       "      <td>41.00</td>\n",
       "      <td>50.00</td>\n",
       "    </tr>\n",
       "    <tr>\n",
       "      <th>51-60</th>\n",
       "      <td>53.50</td>\n",
       "      <td>52.00</td>\n",
       "      <td>3.70</td>\n",
       "      <td>51.00</td>\n",
       "      <td>59.00</td>\n",
       "    </tr>\n",
       "    <tr>\n",
       "      <th>61-70</th>\n",
       "      <td>70.00</td>\n",
       "      <td>70.00</td>\n",
       "      <td>0.00</td>\n",
       "      <td>70.00</td>\n",
       "      <td>70.00</td>\n",
       "    </tr>\n",
       "    <tr>\n",
       "      <th>71-80</th>\n",
       "      <td>79.00</td>\n",
       "      <td>79.00</td>\n",
       "      <td>nan</td>\n",
       "      <td>79.00</td>\n",
       "      <td>79.00</td>\n",
       "    </tr>\n",
       "    <tr>\n",
       "      <th>81-90</th>\n",
       "      <td>84.00</td>\n",
       "      <td>84.00</td>\n",
       "      <td>nan</td>\n",
       "      <td>84.00</td>\n",
       "      <td>84.00</td>\n",
       "    </tr>\n",
       "    <tr>\n",
       "      <th>Total</th>\n",
       "      <td>426.14</td>\n",
       "      <td>424.00</td>\n",
       "      <td>13.54</td>\n",
       "      <td>409.00</td>\n",
       "      <td>450.00</td>\n",
       "    </tr>\n",
       "  </tbody>\n",
       "</table>\n",
       "</div>"
      ],
      "text/plain": [
       "            Mean  Median  Standard Deviation  Minimum  Maximum\n",
       "Age_Range                                                     \n",
       "13-17      16.01   16.00                1.01    13.00    17.00\n",
       "18-21      19.47   19.00                1.14    18.00    21.00\n",
       "22-30      25.84   26.00                2.55    22.00    30.00\n",
       "31-40      34.69   35.00                2.60    31.00    40.00\n",
       "41-50      43.62   43.00                2.54    41.00    50.00\n",
       "51-60      53.50   52.00                3.70    51.00    59.00\n",
       "61-70      70.00   70.00                0.00    70.00    70.00\n",
       "71-80      79.00   79.00                 nan    79.00    79.00\n",
       "81-90      84.00   84.00                 nan    84.00    84.00\n",
       "Total     426.14  424.00               13.54   409.00   450.00"
      ]
     },
     "execution_count": 19,
     "metadata": {},
     "output_type": "execute_result"
    }
   ],
   "source": [
    "print(\"\\033[1m\"+'Age Range Summary'+\"\\033[1m\")\n",
    "def cerv_stats_by_age():\n",
    "    pd.options.display.float_format = '{:,.2f}'.format\n",
    "    new2 = cervdat.groupby('Age_Range')['Age']\\\n",
    "    .agg([\"mean\", \"median\", \"std\", \"min\", \"max\"])\n",
    "    new2.loc['Total'] = new2.sum(numeric_only=True, axis=0)\n",
    "    column_rename = {'mean': 'Mean', 'median': 'Median',\n",
    "                     'std': 'Standard Deviation',\\\n",
    "                     'min':'Minimum','max': 'Maximum'}\n",
    "    dfsummary = new2.rename(columns = column_rename)\n",
    "    return dfsummary\n",
    "cerv_stats_age = cerv_stats_by_age()\n",
    "cerv_stats_by_age()"
   ]
  },
  {
   "cell_type": "code",
   "execution_count": 20,
   "metadata": {},
   "outputs": [
    {
     "data": {
      "image/png": "[encoded data removed]",
      "text/plain": [
       "<Figure size 576x252 with 1 Axes>"
      ]
     },
     "metadata": {
      "needs_background": "light"
     },
     "output_type": "display_data"
    }
   ],
   "source": [
    "cerv_stats_age.iloc[:, 0:3][0:8].plot.barh(figsize=(8,3.5))\n",
    "plt.show()"
   ]
  },
  {
   "cell_type": "markdown",
   "metadata": {},
   "source": [
    "### Boxplot"
   ]
  },
  {
   "cell_type": "code",
   "execution_count": 21,
   "metadata": {},
   "outputs": [
    {
     "name": "stdout",
     "output_type": "stream",
     "text": [
      "\u001b[1mBoxplot Distribution\u001b[1m\n"
     ]
    },
    {
     "data": {
      "image/png": "[encoded data removed]",
      "text/plain": [
       "<Figure size 720x108 with 1 Axes>"
      ]
     },
     "metadata": {
      "needs_background": "light"
     },
     "output_type": "display_data"
    },
    {
     "name": "stdout",
     "output_type": "stream",
     "text": [
      "The first quartile is 20.0. \n",
      "The third quartile is 32.0. \n",
      "The IQR is 12.0.\n",
      "The mean is 26.82. \n",
      "The standard deviation is 8.5. \n",
      "The median is 25.0. \n"
     ]
    }
   ],
   "source": [
    "# selected boxplot distributions\n",
    "print(\"\\033[1m\"+'Boxplot Distribution'+\"\\033[1m\")\n",
    "\n",
    "# Boxplot of age as one way of showing distribution\n",
    "fig = plt.figure(figsize = (10,1.5))\n",
    "plt.title ('Boxplot: Age Distribution')\n",
    "plt.xlabel('Age')\n",
    "plt.ylabel('Value')\n",
    "sns.boxplot(data=cervdat['Age'], \n",
    "            palette=\"coolwarm\", orient='h', \n",
    "            linewidth=2.5)\n",
    "plt.show()\n",
    "\n",
    "IQR = age_summary['75%'][0] - age_summary['25%'][0]\n",
    "\n",
    "print('The first quartile is %s. '%age_summary['25%'][0])\n",
    "print('The third quartile is %s. '%age_summary['75%'][0])\n",
    "print('The IQR is %s.'%round(IQR,2))\n",
    "print('The mean is %s. '%round(age_summary['mean'][0],2))\n",
    "print('The standard deviation is %s. '%round(age_summary['std'][0],2))\n",
    "print('The median is %s. '%round(age_summary['50%'][0],2))"
   ]
  },
  {
   "cell_type": "markdown",
   "metadata": {},
   "source": [
    "### Contingency Table"
   ]
  },
  {
   "cell_type": "code",
   "execution_count": 22,
   "metadata": {},
   "outputs": [
    {
     "data": {
      "text/html": [
       "<div>\n",
       "<style scoped>\n",
       "    .dataframe tbody tr th:only-of-type {\n",
       "        vertical-align: middle;\n",
       "    }\n",
       "\n",
       "    .dataframe tbody tr th {\n",
       "        vertical-align: top;\n",
       "    }\n",
       "\n",
       "    .dataframe thead th {\n",
       "        text-align: right;\n",
       "    }\n",
       "</style>\n",
       "<table border=\"1\" class=\"dataframe\">\n",
       "  <thead>\n",
       "    <tr style=\"text-align: right;\">\n",
       "      <th></th>\n",
       "      <th>Healthy</th>\n",
       "      <th>Cancer</th>\n",
       "      <th>Total</th>\n",
       "      <th>% Cancer</th>\n",
       "    </tr>\n",
       "  </thead>\n",
       "  <tbody>\n",
       "    <tr>\n",
       "      <th>13-17</th>\n",
       "      <td>83.00</td>\n",
       "      <td>2.00</td>\n",
       "      <td>85.00</td>\n",
       "      <td>2.35</td>\n",
       "    </tr>\n",
       "    <tr>\n",
       "      <th>18-21</th>\n",
       "      <td>171.00</td>\n",
       "      <td>14.00</td>\n",
       "      <td>185.00</td>\n",
       "      <td>7.57</td>\n",
       "    </tr>\n",
       "    <tr>\n",
       "      <th>22-30</th>\n",
       "      <td>318.00</td>\n",
       "      <td>20.00</td>\n",
       "      <td>338.00</td>\n",
       "      <td>5.92</td>\n",
       "    </tr>\n",
       "    <tr>\n",
       "      <th>31-40</th>\n",
       "      <td>182.00</td>\n",
       "      <td>15.00</td>\n",
       "      <td>197.00</td>\n",
       "      <td>7.61</td>\n",
       "    </tr>\n",
       "    <tr>\n",
       "      <th>41-50</th>\n",
       "      <td>43.00</td>\n",
       "      <td>2.00</td>\n",
       "      <td>45.00</td>\n",
       "      <td>4.44</td>\n",
       "    </tr>\n",
       "    <tr>\n",
       "      <th>51-60</th>\n",
       "      <td>2.00</td>\n",
       "      <td>2.00</td>\n",
       "      <td>4.00</td>\n",
       "      <td>50.00</td>\n",
       "    </tr>\n",
       "    <tr>\n",
       "      <th>61-70</th>\n",
       "      <td>2.00</td>\n",
       "      <td>0.00</td>\n",
       "      <td>2.00</td>\n",
       "      <td>0.00</td>\n",
       "    </tr>\n",
       "    <tr>\n",
       "      <th>71-80</th>\n",
       "      <td>1.00</td>\n",
       "      <td>0.00</td>\n",
       "      <td>1.00</td>\n",
       "      <td>0.00</td>\n",
       "    </tr>\n",
       "    <tr>\n",
       "      <th>81-90</th>\n",
       "      <td>1.00</td>\n",
       "      <td>0.00</td>\n",
       "      <td>1.00</td>\n",
       "      <td>0.00</td>\n",
       "    </tr>\n",
       "    <tr>\n",
       "      <th>Total</th>\n",
       "      <td>803.00</td>\n",
       "      <td>55.00</td>\n",
       "      <td>858.00</td>\n",
       "      <td>6.41</td>\n",
       "    </tr>\n",
       "  </tbody>\n",
       "</table>\n",
       "</div>"
      ],
      "text/plain": [
       "       Healthy  Cancer  Total  % Cancer\n",
       "13-17    83.00    2.00  85.00      2.35\n",
       "18-21   171.00   14.00 185.00      7.57\n",
       "22-30   318.00   20.00 338.00      5.92\n",
       "31-40   182.00   15.00 197.00      7.61\n",
       "41-50    43.00    2.00  45.00      4.44\n",
       "51-60     2.00    2.00   4.00     50.00\n",
       "61-70     2.00    0.00   2.00      0.00\n",
       "71-80     1.00    0.00   1.00      0.00\n",
       "81-90     1.00    0.00   1.00      0.00\n",
       "Total   803.00   55.00 858.00      6.41"
      ]
     },
     "execution_count": 22,
     "metadata": {},
     "output_type": "execute_result"
    }
   ],
   "source": [
    "def age_biopsy():\n",
    "\t\n",
    "\tBiopsy_Res_healthy = cervdat.loc[cervdat.Biopsy_Res == 'Healthy'].groupby(\n",
    "\t\t['Age_Range'])[['Biopsy_Res']].count()\n",
    "\tBiopsy_Res_healthy.rename(columns = {'Biopsy_Res':'Healthy'}, inplace=True)\n",
    "\tBiopsy_Res_cancer= cervdat.loc[cervdat.Biopsy_Res == 'Cancer'].groupby(\n",
    "\t\t['Age_Range'])[['Biopsy_Res']].count()\n",
    "\tBiopsy_Res_cancer.rename(columns = {'Biopsy_Res':'Cancer'}, inplace=True)\n",
    "\tBiopsy_Res_comb = pd.concat([Biopsy_Res_healthy, Biopsy_Res_cancer], axis=1)\n",
    "\t# sum row totals\n",
    "\tBiopsy_Res_comb['Total']=Biopsy_Res_comb.sum(axis=1)\n",
    "\tBiopsy_Res_comb.loc['Total']=Biopsy_Res_comb.sum(numeric_only=True, axis=0)\n",
    "\t# get % total of each row\n",
    "\tBiopsy_Res_comb['% Cancer']=round((Biopsy_Res_comb['Cancer'] / \n",
    "\t(Biopsy_Res_comb['Cancer']+Biopsy_Res_comb['Healthy']))* 100, 2)\n",
    "\tBiopsy_Res_comb['Cancer']=Biopsy_Res_comb['Cancer'].fillna(0)\n",
    "\tBiopsy_Res_comb['% Cancer']=Biopsy_Res_comb['% Cancer'].fillna(0)\n",
    "\treturn Biopsy_Res_comb.style.format(\"{:,.0f}\")\n",
    "age_biopsy()\n",
    "age_biopsy = age_biopsy().data; age_biopsy\t"
   ]
  },
  {
   "cell_type": "markdown",
   "metadata": {},
   "source": [
    "### Bar Graphs"
   ]
  },
  {
   "cell_type": "code",
   "execution_count": 23,
   "metadata": {},
   "outputs": [
    {
     "data": {
      "image/png": "[encoded data removed]",
      "text/plain": [
       "<Figure size 576x288 with 1 Axes>"
      ]
     },
     "metadata": {
      "needs_background": "light"
     },
     "output_type": "display_data"
    }
   ],
   "source": [
    "age_range_plt = age_biopsy['Total'][0:9]\n",
    "age_range_plt.plot(kind='bar', width=0.90, figsize=(8,4))\n",
    "plt.title('Distribution of Female Patients by Age Group')\n",
    "plt.xlabel('Age of Female'); plt.xticks(rotation = 0)\n",
    "plt.ylabel('Count'); plt.show()"
   ]
  },
  {
   "cell_type": "markdown",
   "metadata": {},
   "source": [
    "*Note.* The age range 22-30 has the largest number of observations in this dataset."
   ]
  },
  {
   "cell_type": "code",
   "execution_count": 24,
   "metadata": {},
   "outputs": [
    {
     "data": {
      "image/png": "[encoded data removed]",
      "text/plain": [
       "<Figure size 576x504 with 2 Axes>"
      ]
     },
     "metadata": {
      "needs_background": "light"
     },
     "output_type": "display_data"
    }
   ],
   "source": [
    "fig = plt.figure(figsize=(8,7))\n",
    "ax1 = fig.add_subplot(211); ax2 = fig.add_subplot(212); fig.tight_layout(pad=6)\n",
    "age_range_plt2= age_biopsy [['Cancer', 'Healthy']][0:8].sort_values(by=['Cancer'], \n",
    "                                                   ascending=False)\n",
    "age_range_plt2.plot(kind='bar', stacked=True, \n",
    "              ax=ax1, color = ['#F8766D', '#00BFC4'], width = 0.90)\n",
    "ax1.set_title('Age Group by Biopsy Results: (Healthy or Cancer)')\n",
    "ax1.set_xlabel('Age Group'); ax1.set_ylabel('Count')\n",
    "for tick in ax1.get_xticklabels():\n",
    "    tick.set_rotation(0)\n",
    "\n",
    "# normalize the plot\n",
    "age_range_plt_norm = age_range_plt2.div(age_range_plt2.sum(1), axis = 0)\n",
    "age_range_plt_norm.plot(kind='bar', stacked=True, \n",
    "                  ax=ax2,color = ['#F8766D', '#00BFC4'], width = 0.90)\n",
    "ax2.set_title('Age Group by Biopsy Results: (Healthy or Cancer) - Normalized')\n",
    "ax2.set_xlabel('Age Group'); ax2.set_ylabel('Frequency')\n",
    "for tick in ax2.get_xticklabels():\n",
    "    tick.set_rotation(0)"
   ]
  },
  {
   "cell_type": "markdown",
   "metadata": {},
   "source": [
    "### Addressing Multicollinearity"
   ]
  },
  {
   "cell_type": "code",
   "execution_count": 25,
   "metadata": {},
   "outputs": [
    {
     "name": "stdout",
     "output_type": "stream",
     "text": [
      "\u001b[1mCervical Cancer Data: Correlation Matrix\u001b[1m\n"
     ]
    },
    {
     "data": {
      "image/png": "[encoded data removed]",
      "text/plain": [
       "<Figure size 1440x1440 with 2 Axes>"
      ]
     },
     "metadata": {
      "needs_background": "light"
     },
     "output_type": "display_data"
    }
   ],
   "source": [
    "# correlation matrix title\n",
    "print(\"\\033[1m\"+'Cervical Cancer Data: Correlation Matrix'+\"\\033[1m\")\n",
    "# assign correlation function to new variable\n",
    "corr = cervdat.corr()\n",
    "matrix = np.triu(corr) # for triangular matrix\n",
    "plt.figure(figsize=(20,20))\n",
    "# parse corr variable intro triangular matrix\n",
    "sns.heatmap(cervdat.corr(method='pearson'), \n",
    "            annot=True, linewidths=.5, cmap=\"coolwarm\", mask=matrix,\n",
    "            square = True, \n",
    "            cbar_kws={'label': 'Correlation Index'})\n",
    "plt.show()"
   ]
  },
  {
   "cell_type": "markdown",
   "metadata": {},
   "source": [
    "Let us narrow our focus by removing highly correlated predictors and passing the rest into a new dataframe."
   ]
  },
  {
   "cell_type": "code",
   "execution_count": 26,
   "metadata": {},
   "outputs": [
    {
     "name": "stdout",
     "output_type": "stream",
     "text": [
      "These are the columns we should drop: ['STDs (number)', 'STDs:condylomatosis', 'STDs:vulvo-perineal condylomatosis', 'STDs: Number of diagnosis']\n"
     ]
    }
   ],
   "source": [
    "cor_matrix = cervdat.corr().abs()\n",
    "upper_tri = cor_matrix.where(np.triu(np.ones(cor_matrix.shape),\n",
    "                                     k=1).astype(np.bool))\n",
    "to_drop = [column for column in upper_tri.columns if \n",
    "           any(upper_tri[column] > 0.75)]\n",
    "print('These are the columns we should drop: %s'%to_drop)"
   ]
  },
  {
   "cell_type": "code",
   "execution_count": 27,
   "metadata": {},
   "outputs": [
    {
     "data": {
      "text/plain": [
       "12"
      ]
     },
     "execution_count": 27,
     "metadata": {},
     "output_type": "execute_result"
    }
   ],
   "source": [
    "cervdat1 = cervdat.drop(columns = ['STDs (number)', 'STDs:condylomatosis', \n",
    "                                   'STDs:vulvo-perineal condylomatosis', \n",
    "                                   'STDs: Number of diagnosis', 'Age_Range', \n",
    "                                   'Biopsy_Res'])\n",
    "cervdat1.shape[1]"
   ]
  },
  {
   "cell_type": "markdown",
   "metadata": {},
   "source": [
    "### Class Imbalance"
   ]
  },
  {
   "cell_type": "code",
   "execution_count": 28,
   "metadata": {},
   "outputs": [
    {
     "data": {
      "image/png": "[encoded data removed]",
      "text/plain": [
       "<Figure size 576x144 with 1 Axes>"
      ]
     },
     "metadata": {
      "needs_background": "light"
     },
     "output_type": "display_data"
    },
    {
     "name": "stdout",
     "output_type": "stream",
     "text": [
      "Healthy    803\n",
      "Cancer      55\n",
      "Name: Biopsy_Res, dtype: int64\n"
     ]
    }
   ],
   "source": [
    "# biopsy bar graph\n",
    "biopsy_count = cervdat['Biopsy_Res'].value_counts()\n",
    "\n",
    "biopsy_count.plot.barh(x ='lab', y='val', rot=0, width=0.99, \n",
    "                       color = ['#00BFC4', '#F8766D'], figsize=(8,2))\n",
    "plt.title ('Biopsy Results by Class')\n",
    "plt.xlabel('Count'); plt.ylabel('Biopsy Results')\n",
    "plt.show()\n",
    "print(biopsy_count)"
   ]
  },
  {
   "cell_type": "code",
   "execution_count": 29,
   "metadata": {},
   "outputs": [],
   "source": [
    "pca = PCA(n_components=2, random_state=222)\n",
    "data_2d = pd.DataFrame(pca.fit_transform(cervdat1.iloc[:,0:11]))"
   ]
  },
  {
   "cell_type": "code",
   "execution_count": 30,
   "metadata": {},
   "outputs": [
    {
     "data": {
      "text/html": [
       "<div>\n",
       "<style scoped>\n",
       "    .dataframe tbody tr th:only-of-type {\n",
       "        vertical-align: middle;\n",
       "    }\n",
       "\n",
       "    .dataframe tbody tr th {\n",
       "        vertical-align: top;\n",
       "    }\n",
       "\n",
       "    .dataframe thead th {\n",
       "        text-align: right;\n",
       "    }\n",
       "</style>\n",
       "<table border=\"1\" class=\"dataframe\">\n",
       "  <thead>\n",
       "    <tr style=\"text-align: right;\">\n",
       "      <th></th>\n",
       "      <th>x</th>\n",
       "      <th>y</th>\n",
       "      <th>Biopsy</th>\n",
       "    </tr>\n",
       "  </thead>\n",
       "  <tbody>\n",
       "    <tr>\n",
       "      <th>0</th>\n",
       "      <td>-9.26</td>\n",
       "      <td>-0.58</td>\n",
       "      <td>0</td>\n",
       "    </tr>\n",
       "    <tr>\n",
       "      <th>1</th>\n",
       "      <td>-12.36</td>\n",
       "      <td>-0.06</td>\n",
       "      <td>0</td>\n",
       "    </tr>\n",
       "    <tr>\n",
       "      <th>2</th>\n",
       "      <td>6.59</td>\n",
       "      <td>-2.93</td>\n",
       "      <td>0</td>\n",
       "    </tr>\n",
       "    <tr>\n",
       "      <th>3</th>\n",
       "      <td>24.80</td>\n",
       "      <td>-1.71</td>\n",
       "      <td>0</td>\n",
       "    </tr>\n",
       "    <tr>\n",
       "      <th>4</th>\n",
       "      <td>21.25</td>\n",
       "      <td>9.54</td>\n",
       "      <td>0</td>\n",
       "    </tr>\n",
       "    <tr>\n",
       "      <th>...</th>\n",
       "      <td>...</td>\n",
       "      <td>...</td>\n",
       "      <td>...</td>\n",
       "    </tr>\n",
       "    <tr>\n",
       "      <th>853</th>\n",
       "      <td>6.66</td>\n",
       "      <td>-3.15</td>\n",
       "      <td>0</td>\n",
       "    </tr>\n",
       "    <tr>\n",
       "      <th>854</th>\n",
       "      <td>6.04</td>\n",
       "      <td>4.70</td>\n",
       "      <td>0</td>\n",
       "    </tr>\n",
       "    <tr>\n",
       "      <th>855</th>\n",
       "      <td>-2.26</td>\n",
       "      <td>-1.76</td>\n",
       "      <td>0</td>\n",
       "    </tr>\n",
       "    <tr>\n",
       "      <th>856</th>\n",
       "      <td>6.62</td>\n",
       "      <td>-4.09</td>\n",
       "      <td>0</td>\n",
       "    </tr>\n",
       "    <tr>\n",
       "      <th>857</th>\n",
       "      <td>2.17</td>\n",
       "      <td>-2.42</td>\n",
       "      <td>0</td>\n",
       "    </tr>\n",
       "  </tbody>\n",
       "</table>\n",
       "<p>858 rows × 3 columns</p>\n",
       "</div>"
      ],
      "text/plain": [
       "         x     y  Biopsy\n",
       "0    -9.26 -0.58       0\n",
       "1   -12.36 -0.06       0\n",
       "2     6.59 -2.93       0\n",
       "3    24.80 -1.71       0\n",
       "4    21.25  9.54       0\n",
       "..     ...   ...     ...\n",
       "853   6.66 -3.15       0\n",
       "854   6.04  4.70       0\n",
       "855  -2.26 -1.76       0\n",
       "856   6.62 -4.09       0\n",
       "857   2.17 -2.42       0\n",
       "\n",
       "[858 rows x 3 columns]"
      ]
     },
     "execution_count": 30,
     "metadata": {},
     "output_type": "execute_result"
    }
   ],
   "source": [
    "data_2d= pd.concat([data_2d, cervdat1['Biopsy']], axis=1)\n",
    "data_2d.columns = ['x', 'y', 'Biopsy']; data_2d"
   ]
  },
  {
   "cell_type": "code",
   "execution_count": 31,
   "metadata": {},
   "outputs": [
    {
     "data": {
      "image/png": "[encoded data removed]",
      "text/plain": [
       "<Figure size 402.375x360 with 1 Axes>"
      ]
     },
     "metadata": {
      "needs_background": "light"
     },
     "output_type": "display_data"
    }
   ],
   "source": [
    "sns.lmplot('x','y',data_2d,fit_reg=False,hue='Biopsy',palette=['#00BFC4','#F8766D'])\n",
    "plt.title('Class Imbalance in Cervical Cancer Dataset'); plt.show()"
   ]
  },
  {
   "cell_type": "code",
   "execution_count": 32,
   "metadata": {},
   "outputs": [],
   "source": [
    "ada = ADASYN(random_state=222)\n",
    "X_resampled, y_resampled = ada.fit_resample(cervdat1.iloc[:,0:11], cervdat1['Biopsy'])"
   ]
  },
  {
   "cell_type": "code",
   "execution_count": 33,
   "metadata": {},
   "outputs": [],
   "source": [
    "cervdat2 = pd.concat([pd.DataFrame(X_resampled), pd.DataFrame(y_resampled)], axis=1)\n",
    "cervdat2.columns = cervdat1.columns"
   ]
  },
  {
   "cell_type": "code",
   "execution_count": 34,
   "metadata": {},
   "outputs": [
    {
     "data": {
      "text/plain": [
       "0    803\n",
       "1    799\n",
       "Name: Biopsy, dtype: int64"
      ]
     },
     "execution_count": 34,
     "metadata": {},
     "output_type": "execute_result"
    }
   ],
   "source": [
    "cervdat2['Biopsy'].value_counts()"
   ]
  },
  {
   "cell_type": "markdown",
   "metadata": {},
   "source": [
    "### Checking for Statistical Significance Via Baseline Mode"
   ]
  },
  {
   "cell_type": "markdown",
   "metadata": {},
   "source": [
    "The logistic regression model is introduced as a baseline because establishing impact of coefficients on each independent feature can be carried with relative ease. Moreover, it is possible to gauge statistical significance from the reported *p*-values of the summary output table below."
   ]
  },
  {
   "cell_type": "markdown",
   "metadata": {},
   "source": [
    "Generalized Linear Model - Logistic Regression Baseline"
   ]
  },
  {
   "cell_type": "markdown",
   "metadata": {},
   "source": [
    "$$y = \\beta_0 + \\beta_1x_1 +\\beta_2x_2 +\\cdots+\\beta_px_p + \\varepsilon$$"
   ]
  },
  {
   "cell_type": "markdown",
   "metadata": {},
   "source": [
    "Logistic Regression - Parametric Form"
   ]
  },
  {
   "cell_type": "markdown",
   "metadata": {},
   "source": [
    "$$p(y) = \\frac{\\text{exp}(\\beta_0+\\beta_1x_1+\\beta_2x_2+\\cdot\\cdot\\cdot+\\beta_px_p)}{1+\\text{exp}(\\beta_0+\\beta_1x_1+\\beta_2x_2+\\cdot\\cdot\\cdot+\\beta_px_p)}  + \\varepsilon$$"
   ]
  },
  {
   "cell_type": "markdown",
   "metadata": {},
   "source": [
    "Logistic Regression - Descriptive Form"
   ]
  },
  {
   "cell_type": "markdown",
   "metadata": {},
   "source": [
    "$$\\hat{p}\\text{(Cancer)} = \\frac{\\text{exp}(b_0+b_1(\\text{Age})+b_2\\text{(No. Partners)}+\\cdot\\cdot\\cdot+b_px_p)}{1+\\text{exp}(b_0+b_1\\text{(Age)}+b_2\\text{(No. Partners)}+\\cdot\\cdot\\cdot+b_px_p)}$$"
   ]
  },
  {
   "cell_type": "code",
   "execution_count": 35,
   "metadata": {},
   "outputs": [
    {
     "name": "stdout",
     "output_type": "stream",
     "text": [
      "Optimization terminated successfully.\n",
      "         Current function value: 0.644722\n",
      "         Iterations 5\n"
     ]
    },
    {
     "data": {
      "text/html": [
       "<table class=\"simpletable\">\n",
       "<caption>Logit Regression Results</caption>\n",
       "<tr>\n",
       "  <th>Dep. Variable:</th>        <td>Biopsy</td>      <th>  No. Observations:  </th>  <td>  1602</td>  \n",
       "</tr>\n",
       "<tr>\n",
       "  <th>Model:</th>                 <td>Logit</td>      <th>  Df Residuals:      </th>  <td>  1590</td>  \n",
       "</tr>\n",
       "<tr>\n",
       "  <th>Method:</th>                 <td>MLE</td>       <th>  Df Model:          </th>  <td>    11</td>  \n",
       "</tr>\n",
       "<tr>\n",
       "  <th>Date:</th>            <td>Wed, 09 Mar 2022</td> <th>  Pseudo R-squ.:     </th>  <td>0.06986</td> \n",
       "</tr>\n",
       "<tr>\n",
       "  <th>Time:</th>                <td>21:49:28</td>     <th>  Log-Likelihood:    </th> <td> -1032.8</td> \n",
       "</tr>\n",
       "<tr>\n",
       "  <th>converged:</th>             <td>True</td>       <th>  LL-Null:           </th> <td> -1110.4</td> \n",
       "</tr>\n",
       "<tr>\n",
       "  <th>Covariance Type:</th>     <td>nonrobust</td>    <th>  LLR p-value:       </th> <td>1.322e-27</td>\n",
       "</tr>\n",
       "</table>\n",
       "<table class=\"simpletable\">\n",
       "<tr>\n",
       "                 <td></td>                    <th>coef</th>     <th>std err</th>      <th>z</th>      <th>P>|z|</th>  <th>[0.025</th>    <th>0.975]</th>  \n",
       "</tr>\n",
       "<tr>\n",
       "  <th>const</th>                           <td>   -0.0388</td> <td>    0.443</td> <td>   -0.087</td> <td> 0.930</td> <td>   -0.908</td> <td>    0.830</td>\n",
       "</tr>\n",
       "<tr>\n",
       "  <th>Age</th>                             <td>   -0.0239</td> <td>    0.010</td> <td>   -2.471</td> <td> 0.013</td> <td>   -0.043</td> <td>   -0.005</td>\n",
       "</tr>\n",
       "<tr>\n",
       "  <th>Number of sexual partners</th>       <td>    0.0210</td> <td>    0.039</td> <td>    0.541</td> <td> 0.588</td> <td>   -0.055</td> <td>    0.097</td>\n",
       "</tr>\n",
       "<tr>\n",
       "  <th>First sexual intercourse</th>        <td>    0.0216</td> <td>    0.026</td> <td>    0.845</td> <td> 0.398</td> <td>   -0.029</td> <td>    0.072</td>\n",
       "</tr>\n",
       "<tr>\n",
       "  <th>Num of pregnancies</th>              <td>    0.1540</td> <td>    0.054</td> <td>    2.877</td> <td> 0.004</td> <td>    0.049</td> <td>    0.259</td>\n",
       "</tr>\n",
       "<tr>\n",
       "  <th>Smokes</th>                          <td>   -0.0910</td> <td>    0.172</td> <td>   -0.530</td> <td> 0.596</td> <td>   -0.428</td> <td>    0.246</td>\n",
       "</tr>\n",
       "<tr>\n",
       "  <th>Hormonal Contraceptives</th>         <td>   -0.5927</td> <td>    0.134</td> <td>   -4.421</td> <td> 0.000</td> <td>   -0.855</td> <td>   -0.330</td>\n",
       "</tr>\n",
       "<tr>\n",
       "  <th>Hormonal Contraceptives (years)</th> <td>    0.1042</td> <td>    0.016</td> <td>    6.456</td> <td> 0.000</td> <td>    0.073</td> <td>    0.136</td>\n",
       "</tr>\n",
       "<tr>\n",
       "  <th>IUD</th>                             <td>    0.6167</td> <td>    0.196</td> <td>    3.154</td> <td> 0.002</td> <td>    0.234</td> <td>    1.000</td>\n",
       "</tr>\n",
       "<tr>\n",
       "  <th>STDs</th>                            <td>    1.7231</td> <td>    0.200</td> <td>    8.606</td> <td> 0.000</td> <td>    1.331</td> <td>    2.115</td>\n",
       "</tr>\n",
       "<tr>\n",
       "  <th>STDs: Time since last diagnosis</th> <td>   -0.0800</td> <td>    0.031</td> <td>   -2.555</td> <td> 0.011</td> <td>   -0.141</td> <td>   -0.019</td>\n",
       "</tr>\n",
       "<tr>\n",
       "  <th>Dx:CIN</th>                          <td>   -0.4723</td> <td>    0.722</td> <td>   -0.654</td> <td> 0.513</td> <td>   -1.887</td> <td>    0.943</td>\n",
       "</tr>\n",
       "</table>"
      ],
      "text/plain": [
       "<class 'statsmodels.iolib.summary.Summary'>\n",
       "\"\"\"\n",
       "                           Logit Regression Results                           \n",
       "==============================================================================\n",
       "Dep. Variable:                 Biopsy   No. Observations:                 1602\n",
       "Model:                          Logit   Df Residuals:                     1590\n",
       "Method:                           MLE   Df Model:                           11\n",
       "Date:                Wed, 09 Mar 2022   Pseudo R-squ.:                 0.06986\n",
       "Time:                        21:49:28   Log-Likelihood:                -1032.8\n",
       "converged:                       True   LL-Null:                       -1110.4\n",
       "Covariance Type:            nonrobust   LLR p-value:                 1.322e-27\n",
       "===================================================================================================\n",
       "                                      coef    std err          z      P>|z|      [0.025      0.975]\n",
       "---------------------------------------------------------------------------------------------------\n",
       "const                              -0.0388      0.443     -0.087      0.930      -0.908       0.830\n",
       "Age                                -0.0239      0.010     -2.471      0.013      -0.043      -0.005\n",
       "Number of sexual partners           0.0210      0.039      0.541      0.588      -0.055       0.097\n",
       "First sexual intercourse            0.0216      0.026      0.845      0.398      -0.029       0.072\n",
       "Num of pregnancies                  0.1540      0.054      2.877      0.004       0.049       0.259\n",
       "Smokes                             -0.0910      0.172     -0.530      0.596      -0.428       0.246\n",
       "Hormonal Contraceptives            -0.5927      0.134     -4.421      0.000      -0.855      -0.330\n",
       "Hormonal Contraceptives (years)     0.1042      0.016      6.456      0.000       0.073       0.136\n",
       "IUD                                 0.6167      0.196      3.154      0.002       0.234       1.000\n",
       "STDs                                1.7231      0.200      8.606      0.000       1.331       2.115\n",
       "STDs: Time since last diagnosis    -0.0800      0.031     -2.555      0.011      -0.141      -0.019\n",
       "Dx:CIN                             -0.4723      0.722     -0.654      0.513      -1.887       0.943\n",
       "===================================================================================================\n",
       "\"\"\""
      ]
     },
     "execution_count": 35,
     "metadata": {},
     "output_type": "execute_result"
    }
   ],
   "source": [
    "X1 = cervdat2.drop(columns=['Biopsy'])\n",
    "X1 = sm.add_constant(X1)\n",
    "y1 = pd.DataFrame(cervdat2[['Biopsy']])\n",
    "log_results = sm.Logit(y1,X1, random_state=222).fit()\n",
    "log_results.summary()"
   ]
  },
  {
   "cell_type": "markdown",
   "metadata": {},
   "source": [
    "From the summary output table, we observe that `Number of sexual partners`, `First sexual intercourse`, `Smokes`, and `Dx:CIN` have *p*-values of 0.588, 0.398, 0.596, and 0.513, respectively, thereby making these variables non-statistically significant where α = 0.05. We will thus remove them from the refined dataset."
   ]
  },
  {
   "cell_type": "code",
   "execution_count": 36,
   "metadata": {},
   "outputs": [],
   "source": [
    "cervdat2 = cervdat2.drop(columns=['Number of sexual partners', 'First sexual intercourse', 'Smokes', 'Dx:CIN'])"
   ]
  },
  {
   "cell_type": "markdown",
   "metadata": {},
   "source": [
    "### Train_Test_Split"
   ]
  },
  {
   "cell_type": "code",
   "execution_count": 37,
   "metadata": {},
   "outputs": [
    {
     "name": "stdout",
     "output_type": "stream",
     "text": [
      "training size: 0.8\n",
      "test size: 0.2\n"
     ]
    }
   ],
   "source": [
    "X = cervdat2.drop(columns=['Biopsy'])\n",
    "y = pd.DataFrame(cervdat2['Biopsy'])\n",
    "\n",
    "X_train, X_test, y_train, y_test = train_test_split(X, y,test_size=0.20, \n",
    "                                                    random_state=42)\n",
    "\n",
    "# confirming train_test_split proportions\n",
    "print('training size:', round(len(X_train)/len(X),2))\n",
    "print('test size:', round(len(X_test)/len(X),2))"
   ]
  },
  {
   "cell_type": "code",
   "execution_count": 38,
   "metadata": {},
   "outputs": [
    {
     "name": "stdout",
     "output_type": "stream",
     "text": [
      "Training: 1281\n",
      "Test: 321\n",
      "Total: 1602\n"
     ]
    }
   ],
   "source": [
    "# confirm dimensions (size of newly partioned data)\n",
    "print('Training:', len(X_train))\n",
    "print('Test:', len(X_test))\n",
    "print('Total:', len(X_train) + len(X_test))"
   ]
  },
  {
   "cell_type": "markdown",
   "metadata": {},
   "source": [
    "## Model Building Strategies"
   ]
  },
  {
   "cell_type": "markdown",
   "metadata": {},
   "source": [
    "### Logistic Regression"
   ]
  },
  {
   "cell_type": "code",
   "execution_count": 39,
   "metadata": {},
   "outputs": [
    {
     "name": "stdout",
     "output_type": "stream",
     "text": [
      "Best Score: 0.6434875645994832\n",
      "Best Hyperparameters: {'C': 0.07972630225526722, 'penalty': 'l1', 'solver': 'liblinear'}\n"
     ]
    }
   ],
   "source": [
    "from scipy.stats import loguniform\n",
    "from sklearn.model_selection import RepeatedStratifiedKFold\n",
    "from sklearn.model_selection import RandomizedSearchCV\n",
    "\n",
    "model = LogisticRegression(random_state=222)\n",
    "cv = RepeatedStratifiedKFold(n_splits=10, n_repeats=3, random_state=222)\n",
    "space = dict()\n",
    "# define search space\n",
    "space['solver'] = ['newton-cg', 'lbfgs', 'liblinear']\n",
    "space['penalty'] = ['none', 'l1', 'l2', 'elasticnet']\n",
    "space['C'] = loguniform(1e-5, 100)\n",
    "# define search\n",
    "search = RandomizedSearchCV(model, space, n_iter=500, scoring='accuracy', \n",
    "n_jobs=-1, cv=cv, random_state=222)\n",
    "# execute search\n",
    "result = search.fit(X_train, y_train)\n",
    "# summarize result\n",
    "print('Best Score: %s' % result.best_score_)\n",
    "print('Best Hyperparameters: %s' % result.best_params_)"
   ]
  },
  {
   "cell_type": "code",
   "execution_count": 40,
   "metadata": {},
   "outputs": [
    {
     "name": "stdout",
     "output_type": "stream",
     "text": [
      "Cost = 0.01 \t Testing Accuracy = 0.53 \t     Training Accuracy = 0.49\n",
      "Cost = 0.10 \t Testing Accuracy = 0.65 \t     Training Accuracy = 0.65\n",
      "Cost = 0.20 \t Testing Accuracy = 0.64 \t     Training Accuracy = 0.65\n",
      "Cost = 0.50 \t Testing Accuracy = 0.64 \t     Training Accuracy = 0.65\n",
      "Cost = 0.80 \t Testing Accuracy = 0.64 \t     Training Accuracy = 0.65\n",
      "Cost = 1.00 \t Testing Accuracy = 0.63 \t     Training Accuracy = 0.65\n",
      "Cost = 5.00 \t Testing Accuracy = 0.63 \t     Training Accuracy = 0.65\n",
      "Cost = 10.00 \t Testing Accuracy = 0.63 \t     Training Accuracy = 0.65\n",
      "Cost = 20.00 \t Testing Accuracy = 0.63 \t     Training Accuracy = 0.65\n",
      "Cost = 50.00 \t Testing Accuracy = 0.63 \t     Training Accuracy = 0.65\n"
     ]
    },
    {
     "data": {
      "image/png": "[encoded data removed]",
      "text/plain": [
       "<Figure size 432x180 with 1 Axes>"
      ]
     },
     "metadata": {
      "needs_background": "light"
     },
     "output_type": "display_data"
    }
   ],
   "source": [
    "# Manually Tuning The Logistic Regression Model\n",
    "C = [0.01, 0.1, 0.2, 0.5, 0.8, 1, 5, 10, 20, 50]\n",
    "LRtrainAcc = []\n",
    "LRtestAcc = []\n",
    "for param in C:\n",
    "    tuned_lr = LogisticRegression(solver = 'liblinear',\n",
    "                                  C = param,\n",
    "                                  max_iter = 500,\n",
    "                                  penalty = 'l1',\n",
    "                                  n_jobs = -1,\n",
    "                                  random_state = 222)\n",
    "    tuned_lr.fit(X_train, y_train)\n",
    "    # Predict on train set\n",
    "    tuned_lr_pred_train = tuned_lr.predict(X_train)\n",
    "    # Predict on test set\n",
    "    tuned_lr1 = tuned_lr.predict(X_test)\n",
    "    LRtrainAcc.append(accuracy_score(y_train, tuned_lr_pred_train))\n",
    "    LRtestAcc.append(accuracy_score(y_test, tuned_lr1))\n",
    "    print('Cost = %2.2f \\t Testing Accuracy = %2.2f \\t \\\n",
    "    Training Accuracy = %2.2f'% (param,accuracy_score(y_test,tuned_lr1),\n",
    "                               accuracy_score(y_train,tuned_lr_pred_train)))\n",
    "\n",
    "# plot cost by accuracy\n",
    "fig, ax = plt.subplots(figsize=(6,2.5))\n",
    "ax.plot(C, LRtrainAcc, 'ro-', C, LRtestAcc,'bv--')\n",
    "ax.legend(['Training Accuracy','Test Accuracy'])\n",
    "plt.title('Logistic Regression: Accuracy vs. Cost')\n",
    "ax.set_xlabel('Cost'); ax.set_xscale('log')\n",
    "ax.set_ylabel('Accuracy'); plt.show()"
   ]
  },
  {
   "cell_type": "code",
   "execution_count": 41,
   "metadata": {},
   "outputs": [
    {
     "name": "stdout",
     "output_type": "stream",
     "text": [
      "Untuned Logistic Regression Model\n",
      "Accuracy Score\n",
      "0.6292834890965732\n",
      "Classification Report \n",
      "               precision    recall  f1-score   support\n",
      "\n",
      "           0       0.64      0.72      0.67       172\n",
      "           1       0.62      0.53      0.57       149\n",
      "\n",
      "    accuracy                           0.63       321\n",
      "   macro avg       0.63      0.62      0.62       321\n",
      "weighted avg       0.63      0.63      0.63       321\n",
      "\n",
      "Tuned Logistic Regression Model\n",
      "Accuracy Score\n",
      "0.6510903426791277\n",
      "Classification Report \n",
      "               precision    recall  f1-score   support\n",
      "\n",
      "           0       0.65      0.75      0.70       172\n",
      "           1       0.65      0.54      0.59       149\n",
      "\n",
      "    accuracy                           0.65       321\n",
      "   macro avg       0.65      0.64      0.64       321\n",
      "weighted avg       0.65      0.65      0.65       321\n",
      "\n"
     ]
    }
   ],
   "source": [
    "# Un-Tuned Logistic Regression Model\n",
    "logit_reg = LogisticRegression(random_state=222) \n",
    "logit_reg.fit(X_train, y_train)\n",
    "\n",
    "# Predict on test set\n",
    "logit_reg_pred1 = logit_reg.predict(X_test)\n",
    "\n",
    "\n",
    "# accuracy and classification report (Untuned Model)\n",
    "print('Untuned Logistic Regression Model')\n",
    "print('Accuracy Score')\n",
    "print(accuracy_score(y_test, logit_reg_pred1))\n",
    "print('Classification Report \\n', \n",
    "       classification_report(y_test, logit_reg_pred1))\n",
    "\n",
    "\n",
    "# Tuned Logistic Regression Model\n",
    "\n",
    "tuned_logreg = LogisticRegression(solver = 'liblinear',\n",
    "                                  C = 0.08,\n",
    "                                  penalty = 'l1',\n",
    "                                  max_iter = 500,\n",
    "                                  n_jobs = -1,\n",
    "                                  random_state=42)\n",
    "tuned_logreg.fit(X_train, y_train)\n",
    "logreg_pred = tuned_logreg.predict(X_test)\n",
    "\n",
    "# accuracy and classification report (Tuned Model)\n",
    "print('Tuned Logistic Regression Model')\n",
    "print('Accuracy Score')\n",
    "print(accuracy_score(y_test, logreg_pred))\n",
    "print('Classification Report \\n', \n",
    "       classification_report(y_test, logreg_pred))"
   ]
  },
  {
   "cell_type": "markdown",
   "metadata": {},
   "source": [
    "### Random Forest"
   ]
  },
  {
   "cell_type": "code",
   "execution_count": 42,
   "metadata": {},
   "outputs": [
    {
     "name": "stdout",
     "output_type": "stream",
     "text": [
      "Best Score: 0.9149015077821012\n",
      "{'bootstrap': True,\n",
      " 'ccp_alpha': 0.0,\n",
      " 'class_weight': None,\n",
      " 'criterion': 'gini',\n",
      " 'max_depth': None,\n",
      " 'max_features': array([0.34617443]),\n",
      " 'max_leaf_nodes': None,\n",
      " 'max_samples': None,\n",
      " 'min_impurity_decrease': 0.0,\n",
      " 'min_samples_leaf': 1,\n",
      " 'min_samples_split': 0.021034408339180924,\n",
      " 'min_weight_fraction_leaf': 0.0,\n",
      " 'n_estimators': 139,\n",
      " 'n_jobs': None,\n",
      " 'oob_score': False,\n",
      " 'random_state': None,\n",
      " 'verbose': 0,\n",
      " 'warm_start': False}\n"
     ]
    }
   ],
   "source": [
    "model_params = {\n",
    "    # randomly sample numbers from 4 to 204 estimators\n",
    "    'n_estimators': randint(4,200),\n",
    "    # normally distributed max_features, \n",
    "    # with mean .25 stddev 0.1, bounded between 0 and 1\n",
    "    'max_features': truncnorm(a=0, b=1, loc=0.25, scale=0.1),\n",
    "    # uniform distribution from 0.01 to 0.2 (0.01 + 0.199)\n",
    "    'min_samples_split': uniform(0.01, 0.199)\n",
    "}\n",
    "# create random forest classifier model\n",
    "rf_model = RandomForestClassifier()\n",
    "\n",
    "# set up random search meta-estimator\n",
    "# this will train 100 models over 5 folds of cross validation \n",
    "# (500 models total)\n",
    "clf = RandomizedSearchCV(rf_model, model_params, n_iter=100, \n",
    "                         cv=5, scoring='accuracy', random_state=222)\n",
    "\n",
    "# train the random search meta-estimator to find the \n",
    "# best model out of 100 candidates\n",
    "result2 = clf.fit(X_train, y_train)\n",
    "\n",
    "# print winning set of hyperparameters\n",
    "from pprint import pprint\n",
    "print('Best Score: %s' % result2.best_score_)\n",
    "pprint(result2.best_estimator_.get_params())"
   ]
  },
  {
   "cell_type": "code",
   "execution_count": 43,
   "metadata": {},
   "outputs": [
    {
     "name": "stdout",
     "output_type": "stream",
     "text": [
      "Max Depth =  1 \t Test Accuracy = 0.70 \t     Training Accuracy = 0.73\n",
      "Max Depth =  2 \t Test Accuracy = 0.75 \t     Training Accuracy = 0.77\n",
      "Max Depth =  3 \t Test Accuracy = 0.82 \t     Training Accuracy = 0.84\n",
      "Max Depth =  4 \t Test Accuracy = 0.83 \t     Training Accuracy = 0.86\n",
      "Max Depth =  5 \t Test Accuracy = 0.88 \t     Training Accuracy = 0.92\n",
      "Max Depth =  6 \t Test Accuracy = 0.90 \t     Training Accuracy = 0.92\n",
      "Max Depth =  7 \t Test Accuracy = 0.91 \t     Training Accuracy = 0.94\n",
      "Max Depth =  8 \t Test Accuracy = 0.92 \t     Training Accuracy = 0.95\n",
      "Max Depth =  9 \t Test Accuracy = 0.93 \t     Training Accuracy = 0.95\n",
      "Max Depth = 10 \t Test Accuracy = 0.93 \t     Training Accuracy = 0.97\n",
      "Max Depth = 11 \t Test Accuracy = 0.95 \t     Training Accuracy = 0.97\n",
      "Max Depth = 12 \t Test Accuracy = 0.96 \t     Training Accuracy = 0.98\n",
      "Max Depth = 13 \t Test Accuracy = 0.95 \t     Training Accuracy = 0.98\n",
      "Max Depth = 14 \t Test Accuracy = 0.95 \t     Training Accuracy = 0.99\n"
     ]
    },
    {
     "data": {
      "image/png": "[encoded data removed]",
      "text/plain": [
       "<Figure size 432x180 with 1 Axes>"
      ]
     },
     "metadata": {
      "needs_background": "light"
     },
     "output_type": "display_data"
    }
   ],
   "source": [
    "# Random Forest Tuning (Manual)\n",
    "rf_train_accuracy = []\n",
    "rf_test_accuracy = []\n",
    "for n in range(1, 15):\n",
    "    rf = RandomForestClassifier(max_depth = n, \n",
    "                                random_state=222)\n",
    "    rf = rf.fit(X_train, y_train)\n",
    "    rf_pred_train = rf.predict(X_train)\n",
    "    rf_pred_test = rf.predict(X_test)\n",
    "    rf_train_accuracy.append(accuracy_score(y_train, \n",
    "                                            rf_pred_train))\n",
    "    rf_test_accuracy.append(accuracy_score(y_test, \n",
    "                                            rf_pred_test))\n",
    "    print('Max Depth = %2.0f \\t Test Accuracy = %2.2f \\t \\\n",
    "    Training Accuracy = %2.2f'% (n, accuracy_score(y_test,\n",
    "                                                  rf_pred_test),\n",
    "                               accuracy_score(y_train,\n",
    "                                              rf_pred_train)))\n",
    "max_depth = list(range(1, 15))\n",
    "fig, plt.subplots(figsize=(6,2.5))\n",
    "plt.plot(max_depth, rf_train_accuracy, 'bv--', \n",
    "         label='Training Accuracy')\n",
    "plt.plot(max_depth, rf_test_accuracy, 'ro--', \n",
    "         label='Test Accuracy')\n",
    "plt.title('Random Forest Accuracy')\n",
    "plt.xlabel('Depth')\n",
    "plt.ylabel('Accuracy')\n",
    "plt.xticks(max_depth)\n",
    "plt.legend()\n",
    "plt.show()"
   ]
  },
  {
   "cell_type": "code",
   "execution_count": 44,
   "metadata": {},
   "outputs": [
    {
     "name": "stdout",
     "output_type": "stream",
     "text": [
      "Untuned Random Forest Model\n",
      "Accuracy Score\n",
      "0.9532710280373832\n",
      "Classification Report \n",
      "               precision    recall  f1-score   support\n",
      "\n",
      "           0       0.94      0.97      0.96       172\n",
      "           1       0.97      0.93      0.95       149\n",
      "\n",
      "    accuracy                           0.95       321\n",
      "   macro avg       0.95      0.95      0.95       321\n",
      "weighted avg       0.95      0.95      0.95       321\n",
      "\n",
      "Tuned Random Forest Model\n",
      "Accuracy Score\n",
      "0.956386292834891\n",
      "Classification Report \n",
      "               precision    recall  f1-score   support\n",
      "\n",
      "           0       0.94      0.98      0.96       172\n",
      "           1       0.97      0.93      0.95       149\n",
      "\n",
      "    accuracy                           0.96       321\n",
      "   macro avg       0.96      0.95      0.96       321\n",
      "weighted avg       0.96      0.96      0.96       321\n",
      "\n"
     ]
    }
   ],
   "source": [
    "# Untuned Random Forest\n",
    "untuned_rf = RandomForestClassifier(random_state=222)\n",
    "untuned_rf = untuned_rf.fit(X_train, y_train)\n",
    "\n",
    "# Predict on test set\n",
    "untuned_rf1 = untuned_rf.predict(X_test)\n",
    "\n",
    "# accuracy and classification report\n",
    "print('Untuned Random Forest Model')\n",
    "print('Accuracy Score')\n",
    "print(accuracy_score(y_test, untuned_rf1))\n",
    "print('Classification Report \\n', \n",
    "       classification_report(y_test, untuned_rf1))\n",
    "\n",
    "# Tuned Random Forest\n",
    "tuned_rf = RandomForestClassifier(random_state=222,\n",
    "                                  max_depth = 12)\n",
    "tuned_rf = tuned_rf.fit(X_train, y_train)\n",
    "\n",
    "# Predict on test set\n",
    "tuned_rf1 = tuned_rf.predict(X_test)\n",
    "\n",
    "# accuracy and classification report\n",
    "print('Tuned Random Forest Model')\n",
    "print('Accuracy Score')\n",
    "print(accuracy_score(y_test, tuned_rf1))\n",
    "print('Classification Report \\n', \n",
    "       classification_report(y_test, tuned_rf1))"
   ]
  },
  {
   "cell_type": "markdown",
   "metadata": {},
   "source": [
    "### Support Vector Machines \n",
    "Similar to that of logistic regression, a linear support vector machine model relies on estimating $(w^*,b^*)$ visa vie constrained optimization of the following form:\n",
    "\n",
    "\\begin{eqnarray*}\n",
    "&&\\min_{w^*,b^*,\\{\\xi_i\\}} \\frac{\\|w\\|^2}{2} + \\frac{1}{C} \\sum_i \\xi_i \\\\\n",
    "\\textrm{s.t.} && \\forall i: y_i\\bigg[w^T \\phi(x_i) + b\\bigg] \\ge 1 - \\xi_i, \\ \\ \\xi_i \\ge 0  \n",
    "\\end{eqnarray*}\n",
    "\n",
    "However, our endeavor relies on the radial basis function kernel:\n",
    "\n",
    "$$ K(x,x^{'}) = \\text{exp} \\left(-\\frac{||x-x^{'}||^2}{2\\sigma^2} \\right) $$\n",
    "\n",
    "where $||x-x^{'}||^2$ is the squared Euclidean distance between the two feature vectors, and $\\gamma = \\frac{1}{2\\sigma^2}$.\n",
    "\n",
    "Simplifying the equation we have:\n",
    "\n",
    "$$ K(x,x^{'}) = \\text{exp} (-\\gamma ||x-x^{'}||^2) $$\n"
   ]
  },
  {
   "cell_type": "markdown",
   "metadata": {},
   "source": [
    "### SVM (Radial Basis Function) Model"
   ]
  },
  {
   "cell_type": "code",
   "execution_count": 45,
   "metadata": {},
   "outputs": [
    {
     "name": "stdout",
     "output_type": "stream",
     "text": [
      "accuracy = 0.56 \n"
     ]
    }
   ],
   "source": [
    "svm1 = SVC(kernel='rbf', random_state=222)\n",
    "svm1.fit(X_train, y_train)\n",
    "svm1_pred_test = svm1.predict(X_test)\n",
    "print('accuracy = %2.2f ' % accuracy_score(y_test, svm1_pred_test))"
   ]
  },
  {
   "cell_type": "markdown",
   "metadata": {},
   "source": [
    "### Setting (tuning) the gamma hyperparameter to \"auto\""
   ]
  },
  {
   "cell_type": "code",
   "execution_count": 46,
   "metadata": {},
   "outputs": [
    {
     "name": "stdout",
     "output_type": "stream",
     "text": [
      "accuracy = 0.78 \n"
     ]
    }
   ],
   "source": [
    "svm2 = SVC(kernel='rbf', gamma='auto', random_state=222)\n",
    "svm2.fit(X_train, y_train)\n",
    "svm2_pred_test = svm2.predict(X_test)\n",
    "print('accuracy = %2.2f ' % accuracy_score(svm2_pred_test,y_test))"
   ]
  },
  {
   "cell_type": "code",
   "execution_count": 47,
   "metadata": {},
   "outputs": [
    {
     "name": "stdout",
     "output_type": "stream",
     "text": [
      "Cost = 0.01 \t Testing Accuracy = 0.46 \t     Training Accuracy = 0.51\n",
      "Cost = 0.10 \t Testing Accuracy = 0.74 \t     Training Accuracy = 0.78\n",
      "Cost = 0.20 \t Testing Accuracy = 0.76 \t     Training Accuracy = 0.80\n",
      "Cost = 0.50 \t Testing Accuracy = 0.79 \t     Training Accuracy = 0.84\n",
      "Cost = 0.80 \t Testing Accuracy = 0.79 \t     Training Accuracy = 0.85\n",
      "Cost = 1.00 \t Testing Accuracy = 0.78 \t     Training Accuracy = 0.85\n",
      "Cost = 5.00 \t Testing Accuracy = 0.82 \t     Training Accuracy = 0.90\n",
      "Cost = 10.00 \t Testing Accuracy = 0.82 \t     Training Accuracy = 0.91\n",
      "Cost = 20.00 \t Testing Accuracy = 0.83 \t     Training Accuracy = 0.92\n",
      "Cost = 50.00 \t Testing Accuracy = 0.87 \t     Training Accuracy = 0.94\n"
     ]
    },
    {
     "data": {
      "image/png": "[encoded data removed]",
      "text/plain": [
       "<Figure size 432x288 with 1 Axes>"
      ]
     },
     "metadata": {
      "needs_background": "light"
     },
     "output_type": "display_data"
    }
   ],
   "source": [
    "C = [0.01, 0.1, 0.2, 0.5, 0.8, 1, 5, 10, 20, 50]\n",
    "svm3_trainAcc = []\n",
    "svm3_testAcc = []\n",
    "\n",
    "for param in C:\n",
    "    svm3 = SVC(C=param,kernel='rbf', gamma = 'auto', random_state=42)\n",
    "    svm3.fit(X_train, y_train)\n",
    "    svm3_pred_train = svm3.predict(X_train)\n",
    "    svm3_pred_test = svm3.predict(X_test)\n",
    "    svm3_trainAcc.append(accuracy_score(y_train, svm3_pred_train))\n",
    "    svm3_testAcc.append(accuracy_score(y_test, svm3_pred_test))\n",
    "    print('Cost = %2.2f \\t Testing Accuracy = %2.2f \\t \\\n",
    "    Training Accuracy = %2.2f'% (param,accuracy_score(y_test,svm3_pred_test),\n",
    "                                 accuracy_score(y_train,svm3_pred_train)))    \n",
    "\n",
    "fig, ax = plt.subplots()\n",
    "ax.plot(C, svm3_trainAcc, 'ro-', C, svm3_testAcc,'bv--')\n",
    "ax.legend(['Training Accuracy','Test Accuracy'])\n",
    "plt.title('SVM with Varying Costs - Accuracy vs. Cost')\n",
    "ax.set_xlabel('C')\n",
    "ax.set_xscale('log')\n",
    "ax.set_ylabel('Accuracy')\n",
    "plt.show()"
   ]
  },
  {
   "cell_type": "code",
   "execution_count": 48,
   "metadata": {},
   "outputs": [
    {
     "name": "stdout",
     "output_type": "stream",
     "text": [
      "Untuned Support Vector Machine Model\n",
      "Accuracy Score\n",
      "0.557632398753894\n",
      "Classification Report \n",
      "               precision    recall  f1-score   support\n",
      "\n",
      "           0       0.56      0.87      0.68       172\n",
      "           1       0.57      0.20      0.30       149\n",
      "\n",
      "    accuracy                           0.56       321\n",
      "   macro avg       0.56      0.53      0.49       321\n",
      "weighted avg       0.56      0.56      0.50       321\n",
      "\n",
      "Tuned Support Vector Machine Model\n",
      "Accuracy Score\n",
      "0.8660436137071651\n",
      "Classification Report \n",
      "               precision    recall  f1-score   support\n",
      "\n",
      "           0       0.91      0.84      0.87       172\n",
      "           1       0.83      0.90      0.86       149\n",
      "\n",
      "    accuracy                           0.87       321\n",
      "   macro avg       0.87      0.87      0.87       321\n",
      "weighted avg       0.87      0.87      0.87       321\n",
      "\n"
     ]
    }
   ],
   "source": [
    "# Untuned Support Vector Machine\n",
    "untuned_svm = SVC(random_state=222)\n",
    "untuned_svm = untuned_svm.fit(X_train, y_train)\n",
    "\n",
    "# Predict on test set\n",
    "untuned_svm1 = untuned_svm.predict(X_test)\n",
    "\n",
    "# accuracy and classification report\n",
    "print('Untuned Support Vector Machine Model')\n",
    "print('Accuracy Score')\n",
    "print(accuracy_score(y_test, untuned_svm1))\n",
    "print('Classification Report \\n', \n",
    "       classification_report(y_test, untuned_svm1))\n",
    "\n",
    "# Tuned Support Vector Machine\n",
    "tuned_svm = SVC(kernel='rbf', \n",
    "                gamma='auto', \n",
    "                random_state=222,\n",
    "                C = 50, probability = True)\n",
    "tuned_svm = tuned_svm.fit(X_train, y_train)\n",
    "\n",
    "# Predict on test set\n",
    "tuned_svm1 = tuned_svm.predict(X_test)\n",
    "\n",
    "# accuracy and classification report\n",
    "print('Tuned Support Vector Machine Model')\n",
    "print('Accuracy Score')\n",
    "print(accuracy_score(y_test, tuned_svm1))\n",
    "print('Classification Report \\n', \n",
    "       classification_report(y_test, tuned_svm1))"
   ]
  },
  {
   "cell_type": "markdown",
   "metadata": {},
   "source": [
    "## Model Evaluation"
   ]
  },
  {
   "cell_type": "markdown",
   "metadata": {},
   "source": [
    "### Confusion Matrices"
   ]
  },
  {
   "cell_type": "code",
   "execution_count": 49,
   "metadata": {},
   "outputs": [
    {
     "data": {
      "image/png": "[encoded data removed]",
      "text/plain": [
       "<Figure size 864x720 with 6 Axes>"
      ]
     },
     "metadata": {
      "needs_background": "light"
     },
     "output_type": "display_data"
    }
   ],
   "source": [
    "fig = plt.figure(figsize=(12,10))\n",
    "ax1 = fig.add_subplot(221)\n",
    "ax2 = fig.add_subplot(222)\n",
    "ax3 = fig.add_subplot(223)\n",
    "\n",
    "# logistic regression confusion matrix\n",
    "plot_confusion_matrix(tuned_logreg, X_test, y_test, ax=ax1)\n",
    "ax1.set_title('Logistic Regression')\n",
    "\n",
    "# Decision tree confusion matrix\n",
    "plot_confusion_matrix(tuned_rf, X_test, y_test, ax=ax2)\n",
    "ax2.set_title('Random Forest')\n",
    "\n",
    "# random forest confusion matrix\n",
    "plot_confusion_matrix(tuned_svm, X_test, y_test, ax=ax3)\n",
    "ax3.set_title('Support Vector Machines')\n",
    "plt.show()"
   ]
  },
  {
   "cell_type": "markdown",
   "metadata": {},
   "source": [
    "### ROC Curves"
   ]
  },
  {
   "cell_type": "code",
   "execution_count": 50,
   "metadata": {},
   "outputs": [],
   "source": [
    "lr_pred = tuned_logreg.predict_proba(X_test)[:, 1]\n",
    "rf_pred = tuned_rf.predict_proba(X_test)[:, 1]\n",
    "svm_pred = tuned_svm.predict_proba(X_test)[:, 1]"
   ]
  },
  {
   "cell_type": "code",
   "execution_count": 51,
   "metadata": {},
   "outputs": [
    {
     "data": {
      "image/png": "[encoded data removed]",
      "text/plain": [
       "<Figure size 576x360 with 1 Axes>"
      ]
     },
     "metadata": {
      "needs_background": "light"
     },
     "output_type": "display_data"
    }
   ],
   "source": [
    "# plot all of the roc curves on one graph\n",
    "tuned_lr_roc = metrics.roc_curve(y_test,lr_pred)\n",
    "fpr,tpr,thresholds = metrics.roc_curve(y_test,lr_pred)\n",
    "tuned_lr_auc = metrics.auc(fpr, tpr)\n",
    "tuned_lr_plot = metrics.RocCurveDisplay(fpr=fpr,tpr=tpr, \n",
    "roc_auc = tuned_lr_auc, \n",
    "estimator_name = 'Logistic Regression')\n",
    "\n",
    "tuned_rf1_roc = metrics.roc_curve(y_test,rf_pred)\n",
    "fpr,tpr,thresholds = metrics.roc_curve(y_test,rf_pred)\n",
    "tuned_rf1_auc = metrics.auc(fpr, tpr)\n",
    "tuned_rf1_plot = metrics.RocCurveDisplay(fpr=fpr,tpr=tpr,\n",
    "roc_auc=tuned_rf1_auc, \n",
    "estimator_name = 'Random Forest')\n",
    "\n",
    "tuned_svm1_roc = metrics.roc_curve(y_test, svm_pred)\n",
    "fpr,tpr,thresholds = metrics.roc_curve(y_test,svm_pred)\n",
    "tuned_svm1_auc = metrics.auc(fpr, tpr)\n",
    "tuned_svm1_plot = metrics.RocCurveDisplay(fpr=fpr,tpr=tpr, \n",
    "roc_auc=tuned_svm1_auc, \n",
    "estimator_name = 'Support Vector Machines')\n",
    "\n",
    "# plot set up\n",
    "fig, ax = plt.subplots(figsize=(8,5))\n",
    "plt.title('ROC Curves for 3 Models',fontsize=12)\n",
    "plt.plot([0, 1], [0, 1], linestyle = '--', \n",
    "         color = '#174ab0')\n",
    "plt.xlabel('',fontsize=12) \n",
    "plt.ylabel('',fontsize=12) \n",
    "\n",
    "# Model ROC Plots Defined above\n",
    "tuned_lr_plot.plot(ax)\n",
    "tuned_rf1_plot.plot(ax)\n",
    "tuned_svm1_plot.plot(ax)\n",
    "plt.show()"
   ]
  },
  {
   "cell_type": "markdown",
   "metadata": {},
   "source": [
    "### Performance Metrics"
   ]
  },
  {
   "cell_type": "code",
   "execution_count": 52,
   "metadata": {},
   "outputs": [],
   "source": [
    "# Logistic Regression Performance Metrics\n",
    "report1 = classification_report(y_test, logreg_pred, output_dict=True)\n",
    "accuracy1 = round(report1['accuracy'],4)\n",
    "precision1 = round(report1['1']['precision'],4)\n",
    "recall1 = round(report1['1']['recall'],4)\n",
    "fl_score1 = round(report1['1']['f1-score'],4)\n",
    "\n",
    "# Decision Tree Performance Metrics                       \n",
    "report2 = classification_report(y_test,tuned_rf1, output_dict=True)\n",
    "accuracy2 = round(report2['accuracy'],4)\n",
    "precision2 = round(report2['1']['precision'],4)\n",
    "recall2 = round(report2['1']['recall'],4)\n",
    "fl_score2 = round(report2['1']['f1-score'],4)\n",
    "\n",
    "# Random Forest Performance Metrics\n",
    "report3 = classification_report(y_test,tuned_svm1,output_dict=True)                \n",
    "accuracy3 = round(report3['accuracy'],4)\n",
    "precision3 = round(report3['1']['precision'],4)\n",
    "recall3 = round(report3['1']['recall'],4)\n",
    "fl_score3 = round(report3['1']['f1-score'],4)   "
   ]
  },
  {
   "cell_type": "code",
   "execution_count": 53,
   "metadata": {},
   "outputs": [
    {
     "name": "stdout",
     "output_type": "stream",
     "text": [
      "+-------------------------+---------------+-----------+--------+----------+\n",
      "|          Model          | Test Accuracy | Precision | Recall | F1-score |\n",
      "+-------------------------+---------------+-----------+--------+----------+\n",
      "|   Logistic Regression   |     0.6511    |   0.6504  | 0.5369 |  0.5882  |\n",
      "|      Random Forest      |     0.9564    |   0.972   | 0.9329 |  0.9521  |\n",
      "| Support Vector Machines |     0.866     |   0.8272  | 0.8993 |  0.8617  |\n",
      "+-------------------------+---------------+-----------+--------+----------+\n"
     ]
    }
   ],
   "source": [
    "table1 = PrettyTable()\n",
    "table1.field_names = ['Model', 'Test Accuracy', \n",
    "'Precision', 'Recall', \n",
    "                      'F1-score']\n",
    "table1.add_row(['Logistic Regression', accuracy1, \n",
    "                precision1, recall1, fl_score1])\n",
    "table1.add_row(['Random Forest', accuracy2, \n",
    "                precision2, recall2, fl_score2])\n",
    "table1.add_row(['Support Vector Machines', accuracy3, \n",
    "                precision3, recall3, fl_score3])\n",
    "print(table1)"
   ]
  },
  {
   "cell_type": "code",
   "execution_count": 54,
   "metadata": {},
   "outputs": [
    {
     "name": "stdout",
     "output_type": "stream",
     "text": [
      "+-------------------------+--------+--------+\n",
      "|          Model          |  AUC   |  MSE   |\n",
      "+-------------------------+--------+--------+\n",
      "|   Logistic Regression   | 0.6744 | 0.3489 |\n",
      "|      Random Forest      | 0.9913 | 0.0436 |\n",
      "| Support Vector Machines | 0.9378 | 0.134  |\n",
      "+-------------------------+--------+--------+\n"
     ]
    }
   ],
   "source": [
    "# Mean-Squared Errors\n",
    "mse1 = round(mean_squared_error(y_test, logreg_pred),4)\n",
    "mse2 = round(mean_squared_error(y_test, tuned_rf1),4)\n",
    "mse3 = round(mean_squared_error(y_test, tuned_svm1),4)\n",
    "\n",
    "table2 = PrettyTable()\n",
    "table2.field_names = ['Model', 'AUC', 'MSE']\n",
    "table2.add_row(['Logistic Regression', \n",
    "                 round(tuned_lr_auc,4), mse1])\n",
    "table2.add_row(['Random Forest', \n",
    "                 round(tuned_rf1_auc,4), mse2])\n",
    "table2.add_row(['Support Vector Machines', \n",
    "                 round(tuned_svm1_auc,4), mse3])\n",
    "print(table2)"
   ]
  },
  {
   "cell_type": "markdown",
   "metadata": {},
   "source": [
    "**References**\n",
    "\n",
    "Brownlee, J. (2020, July 24). Train-Test Split for Evaluating Machine Learning Algorithms. Machine Learning Mastery.\n",
    "https://machinelearningmastery.com/train-test-split-forevaluating-machine-learning-algorithms/\n",
    "\n",
    "Centers for Disease Control and Prevention. (2021, January 12). What Are the Risk Factors for Cervical Cancer?\n",
    "https://www.cdc.gov/cancer/cervical/basic_info/risk_factors.htm\n",
    "\n",
    "Dua, D., & Graff, C. (2019). UCI Machine Learning Repository [http://archive.ics.uci.edu/ml].\n",
    "Irvine, CA: University of California, School of Information and Computer Science.\n",
    "https://archive.ics.uci.edu/ml/datasets/Cervical+cancer+%28Risk+Factors%29\n",
    "\n",
    "Kelwin F., Cardoso, J.S., and Fernandes, J. (2017). Transfer Learning with Partial Observability Applied to Cervical Cancer Screening.\n",
    "Springer International Publishing, 1055, 243-250. https://www.doi.org/10.1007/978-3-319-58838-4_27\n",
    "\n",
    "Kuhn, M., & Johnson, K. (2016). Applied Predictive Modeling. Springer.\n",
    "https://doi.org/10.1007/978-1-4614-6849-3\n",
    "\n",
    "Kuhn, M. (2019, March 27). Subsampling For Class Imbalances. Github.\n",
    "https://topepo.github.io/caret/subsampling-for-class-imbalances.html\n",
    "\n",
    "World Health Organization. (2021). IARC marks Cervical Cancer Awareness Month 2021.\n",
    "https://www.iarc.who.int/news-events/iarc-marks-cervical-cancer-awareness-month-2021/"
   ]
  }
 ],
 "metadata": {
  "kernelspec": {
   "display_name": "Python 3",
   "language": "python",
   "name": "python3"
  },
  "language_info": {
   "codemirror_mode": {
    "name": "ipython",
    "version": 3
   },
   "file_extension": ".py",
   "mimetype": "text/x-python",
   "name": "python",
   "nbconvert_exporter": "python",
   "pygments_lexer": "ipython3",
   "version": "3.8.3"
  }
 },
 "nbformat": 4,
 "nbformat_minor": 4
}
